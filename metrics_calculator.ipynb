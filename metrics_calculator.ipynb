{
 "cells": [
  {
   "cell_type": "code",
   "execution_count": 368,
   "metadata": {
    "collapsed": true
   },
   "outputs": [],
   "source": [
    "import numpy as np\n",
    "import pandas as pd \n",
    "from datetime import datetime"
   ]
  },
  {
   "cell_type": "code",
   "execution_count": 369,
   "metadata": {
    "collapsed": false
   },
   "outputs": [],
   "source": [
    "def calc_index_returns(df): \n",
    "    '''Calculate and return a list of benchmark returns'''\n",
    "    index_returns = []\n",
    "    for i in range(0, len(df)-1):\n",
    "        #Compute daily returns \n",
    "        rb = (df.ix[i+1,'price'] - df.ix[i,'price'])/(df.ix[i,'price'])\n",
    "        index_returns.append(tuple((df.ix[i+1, 'date'], rb)))\n",
    "    #Sort returns by earliest to latest date \n",
    "    index_returns = sorted(index_returns, key=lambda L: datetime.strptime(L[0], '%d/%m/%Y'))\n",
    "    return index_returns "
   ]
  },
  {
   "cell_type": "code",
   "execution_count": 370,
   "metadata": {
    "collapsed": false
   },
   "outputs": [],
   "source": [
    "def calc_returns(df):\n",
    "    '''Calculate and return a list of returns.'''\n",
    "    returns = []\n",
    "    for i in range(0, len(df)-1):\n",
    "        # Computes daily returns\n",
    "        rp = (df.ix[i, 'Close'] - df.ix[i+1, 'Close'])/(df.ix[i+1, 'Close'])\n",
    "        returns.append(tuple((df.ix[i, 'Date'], rp)))\n",
    "    #Sort returns by earliest to latest date \n",
    "    returns = sorted(returns, key=lambda L: datetime.strptime(L[0], '%d/%m/%Y'))\n",
    "    return returns"
   ]
  },
  {
   "cell_type": "code",
   "execution_count": 371,
   "metadata": {
    "collapsed": false
   },
   "outputs": [],
   "source": [
    "def get_data_between_dates(returns, start_date, end_date):\n",
    "    returns = [x for x in returns if datetime.strptime(x[0],'%d/%m/%Y') \n",
    "               >= datetime.strptime(start_date, '%d/%m/%Y')\n",
    "               and datetime.strptime(x[0],'%d/%m/%Y') <= datetime.strptime(end_date, '%d/%m/%Y')]\n",
    "    returns = [x[1] for x in returns]\n",
    "    return returns "
   ]
  },
  {
   "cell_type": "code",
   "execution_count": 372,
   "metadata": {
    "collapsed": false
   },
   "outputs": [],
   "source": [
    "def calc_sharpe(df, rf, start_date, end_date):\n",
    "    '''Calculate the annualised Sharpe Ratio using a risk free rate between a specified date range'''\n",
    "    returns = calc_returns(df)\n",
    "    returns = get_data_between_dates(returns, start_date, end_date)\n",
    "    rp_mean = np.mean(returns)\n",
    "    rp_sd = np.std(returns)\n",
    "    return ((rp_mean-rf)/rp_sd) * (365/np.sqrt(365))"
   ]
  },
  {
   "cell_type": "code",
   "execution_count": 373,
   "metadata": {
    "collapsed": true
   },
   "outputs": [],
   "source": [
    "def calc_sortino(df, rf, mar, start_date, end_date):\n",
    "    '''Calculates the annualised Sortino ratio by using standard deviation of negative returns between a specified date range.'''\n",
    "    rp = calc_returns(df)\n",
    "    rp = get_data_between_dates(rp, start_date, end_date)\n",
    "    neg_rp = [x for x in rp if x < mar]\n",
    "    return ((np.mean(rp)) - rf)/np.std(neg_rp) * (365/np.sqrt(365))"
   ]
  },
  {
   "cell_type": "code",
   "execution_count": 374,
   "metadata": {
    "collapsed": true
   },
   "outputs": [],
   "source": [
    "def calc_treynor(df, market, rf, start_date, end_date):\n",
    "    '''Calculates the annualised Treynor Ratio between a specified date range.'''\n",
    "    rp = calc_returns(df)\n",
    "    rb = calc_index_returns(market)\n",
    "    rp = get_data_between_dates(rp, start_date, end_date)\n",
    "    rb = get_data_between_dates(rb, start_date, end_date)\n",
    "    beta = np.cov(rp, rb)[0][1]/np.var(rb)\n",
    "    return ((np.mean(rp) - rf)/beta) * (365/np.sqrt(365))"
   ]
  },
  {
   "cell_type": "code",
   "execution_count": 375,
   "metadata": {
    "collapsed": true
   },
   "outputs": [],
   "source": [
    "def calc_infoRatio(df, market, start_date, end_date):\n",
    "    '''Calculates the Information Ratio between a specified date range.'''\n",
    "    x = calc_returns(df)\n",
    "    y = calc_index_returns(market)\n",
    "    \n",
    "    x = get_data_between_dates(x, start_date, end_date)\n",
    "    y = get_data_between_dates(y, start_date, end_date)\n",
    "    \n",
    "    coef = np.polyfit(x, y, 1)\n",
    "    beta = coef[0]\n",
    "    alpha = coef[1]\n",
    "    residuals = []\n",
    "\n",
    "    for i in range(0, len(x)):\n",
    "        predicted = alpha + beta*x[i]\n",
    "        residuals = np.append(residuals, y[i] - predicted)\n",
    "\n",
    "    residual_sd = np.std(residuals)\n",
    "    return (alpha/residual_sd) * (365/np.sqrt(365))"
   ]
  },
  {
   "cell_type": "code",
   "execution_count": 376,
   "metadata": {
    "collapsed": false
   },
   "outputs": [],
   "source": [
    "index_df = pd.read_csv('C:/Users/Eileen Wang/Desktop/crix.csv')\n",
    "bitcoin_df = pd.read_csv('C:/Users/Eileen Wang/Desktop/bitcoin_final.csv')"
   ]
  },
  {
   "cell_type": "code",
   "execution_count": 378,
   "metadata": {
    "collapsed": false
   },
   "outputs": [
    {
     "name": "stdout",
     "output_type": "stream",
     "text": [
      "3.226561859\n",
      "1.92688887219\n",
      "0.159218996457\n",
      "1.91262560617\n"
     ]
    }
   ],
   "source": [
    "print(calc_sharpe(bitcoin_df, 0, '1/01/2017', '22/12/2017'))\n",
    "print(calc_sortino(bitcoin_df, 0, 0, '28/04/2013', '22/12/2017'))\n",
    "print(calc_treynor(bitcoin_df, index_df, 0, '1/01/2017', '22/11/2017'))\n",
    "print(calc_infoRatio(bitcoin_df, index_df, '1/01/2017', '22/11/2017'))"
   ]
  }
 ],
 "metadata": {
  "celltoolbar": "Raw Cell Format",
  "kernelspec": {
   "display_name": "Python 3",
   "language": "python",
   "name": "python3"
  },
  "language_info": {
   "codemirror_mode": {
    "name": "ipython",
    "version": 3
   },
   "file_extension": ".py",
   "mimetype": "text/x-python",
   "name": "python",
   "nbconvert_exporter": "python",
   "pygments_lexer": "ipython3",
   "version": "3.6.0"
  }
 },
 "nbformat": 4,
 "nbformat_minor": 2
}
