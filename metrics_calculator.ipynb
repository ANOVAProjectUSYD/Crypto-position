{
 "cells": [
  {
   "cell_type": "code",
   "execution_count": 317,
   "metadata": {
    "collapsed": true
   },
   "outputs": [],
   "source": [
    "import numpy as np\n",
    "import pandas as pd \n",
    "from datetime import datetime"
   ]
  },
  {
   "cell_type": "code",
   "execution_count": 318,
   "metadata": {},
   "outputs": [],
   "source": [
    "def calc_index_returns(df): \n",
    "    '''Calculate and return a list of benchmark returns'''\n",
    "    index_returns = []\n",
    "    for i in range(0, len(df)-1):\n",
    "        #Compute daily returns \n",
    "        rb = (df.ix[i+1,'price'] - df.ix[i,'price'])/(df.ix[i,'price'])\n",
    "        index_returns.append(tuple((df.ix[i+1, 'date'], rb)))\n",
    "    #Sort returns by earliest to latest date \n",
    "    index_returns = sorted(index_returns, key=lambda L: datetime.strptime(L[0], '%d/%m/%Y'))\n",
    "    return index_returns "
   ]
  },
  {
   "cell_type": "code",
   "execution_count": 319,
   "metadata": {},
   "outputs": [],
   "source": [
    "def calc_returns(df):\n",
    "    '''Calculate and return a list of returns.'''\n",
    "    returns = []\n",
    "    for i in range(0, len(df)-1):\n",
    "        # Computes daily returns\n",
    "        rp = (df.ix[i, 'Close'] - df.ix[i+1, 'Close'])/(df.ix[i+1, 'Close'])\n",
    "        returns.append(tuple((df.ix[i, 'Date'], rp)))\n",
    "    #Sort returns by earliest to latest date \n",
    "    returns = sorted(returns, key=lambda L: datetime.strptime(L[0], '%d/%m/%Y'))\n",
    "    return returns"
   ]
  },
  {
   "cell_type": "code",
   "execution_count": 320,
   "metadata": {},
   "outputs": [],
   "source": [
    "def get_data_between_dates(returns, start_date, end_date):\n",
    "    '''Returns data between specified dates'''\n",
    "    returns = [x for x in returns if datetime.strptime(x[0],'%d/%m/%Y') \n",
    "               >= datetime.strptime(start_date, '%d/%m/%Y')\n",
    "               and datetime.strptime(x[0],'%d/%m/%Y') <= datetime.strptime(end_date, '%d/%m/%Y')]\n",
    "    returns = [x[1] for x in returns]\n",
    "    return returns "
   ]
  },
  {
   "cell_type": "code",
   "execution_count": 321,
   "metadata": {},
   "outputs": [],
   "source": [
    "def calc_sharpe(df, rf, start_date, end_date):\n",
    "    '''Calculate the annualised Sharpe Ratio using a risk free rate between a specified date range'''\n",
    "    returns = calc_returns(df)\n",
    "    returns = get_data_between_dates(returns, start_date, end_date)\n",
    "    rp_mean = np.mean(returns)\n",
    "    rp_sd = np.std(returns)\n",
    "    return ((rp_mean-rf)/rp_sd) * (365/np.sqrt(365))"
   ]
  },
  {
   "cell_type": "code",
   "execution_count": 322,
   "metadata": {
    "collapsed": true
   },
   "outputs": [],
   "source": [
    "def calc_sortino(df, rf, mar, start_date, end_date):\n",
    "    '''Calculates the annualised Sortino ratio by using standard deviation of negative returns between a specified date range.'''\n",
    "    rp = calc_returns(df)\n",
    "    rp = get_data_between_dates(rp, start_date, end_date)\n",
    "    neg_rp = [x for x in rp if x < mar]\n",
    "    return ((np.mean(rp)) - rf)/np.std(neg_rp) * (365/np.sqrt(365))"
   ]
  },
  {
   "cell_type": "code",
   "execution_count": 323,
   "metadata": {},
   "outputs": [],
   "source": [
    "def calc_treynor(df, market, rf, start_date, end_date):\n",
    "    '''Calculates the Treynor Ratio between a specified date range.'''\n",
    "    rp = calc_returns(df)\n",
    "    rb = calc_index_returns(market)\n",
    "    rp = get_data_between_dates(rp, start_date, end_date)\n",
    "    rb = get_data_between_dates(rb, start_date, end_date)\n",
    "    beta = np.cov(rp, rb, ddof = 1)[0][1]/np.var(rb, ddof = 1)\n",
    "    return ((np.mean(rp) - rf)/beta) "
   ]
  },
  {
   "cell_type": "code",
   "execution_count": 324,
   "metadata": {
    "collapsed": true
   },
   "outputs": [],
   "source": [
    "def calc_infoRatio(df, market, start_date, end_date):\n",
    "    '''Calculates the Information Ratio between a specified date range.'''\n",
    "    y = calc_returns(df)\n",
    "    x = calc_index_returns(market)\n",
    "    \n",
    "    y = get_data_between_dates(y, start_date, end_date)\n",
    "    x = get_data_between_dates(x, start_date, end_date)\n",
    "    \n",
    "    coef = np.polyfit(x, y, 1)\n",
    "    beta = coef[0]\n",
    "    alpha = coef[1]\n",
    "    residuals = []\n",
    "    for i in range(0, len(x)):\n",
    "        predicted = alpha + beta*x[i]\n",
    "        residuals = np.append(residuals, y[i] - predicted)\n",
    "\n",
    "    return (alpha/np.std(residuals)) "
   ]
  },
  {
   "cell_type": "code",
   "execution_count": 325,
   "metadata": {},
   "outputs": [],
   "source": [
    "index_df = pd.read_csv('C:/Users/Eileen Wang/Desktop/crix.csv')\n",
    "bitcoin_df = pd.read_csv('C:/Users/Eileen Wang/Desktop/bitcoin_final.csv')"
   ]
  },
  {
   "cell_type": "code",
   "execution_count": 326,
   "metadata": {},
   "outputs": [
    {
     "name": "stdout",
     "output_type": "stream",
     "text": [
      "Sharpe  3.34768230194\n",
      "Sortino  4.44523201221\n",
      "Treynor  0.00824252133956\n",
      "Info  -0.00277702271494\n"
     ]
    }
   ],
   "source": [
    "print('Sharpe ', calc_sharpe(bitcoin_df, 0, '22/11/2016', '22/11/2017'))\n",
    "print('Sortino ', calc_sortino(bitcoin_df, 0, 0, '22/11/2016', '22/11/2017'))\n",
    "print('Treynor ', calc_treynor(bitcoin_df, index_df, 0, '22/11/2016', '22/11/2017'))\n",
    "print('Info ', calc_infoRatio(bitcoin_df, index_df, '22/11/2016', '22/11/2017'))"
   ]
  }
 ],
 "metadata": {
  "celltoolbar": "Raw Cell Format",
  "kernelspec": {
   "display_name": "Python 3",
   "language": "python",
   "name": "python3"
  },
  "language_info": {
   "codemirror_mode": {
    "name": "ipython",
    "version": 3
   },
   "file_extension": ".py",
   "mimetype": "text/x-python",
   "name": "python",
   "nbconvert_exporter": "python",
   "pygments_lexer": "ipython3",
   "version": "3.6.4"
  }
 },
 "nbformat": 4,
 "nbformat_minor": 2
}
