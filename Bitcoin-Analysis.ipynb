{
 "cells": [
  {
   "cell_type": "code",
   "execution_count": null,
   "metadata": {},
   "outputs": [],
   "source": [
    "import pandas as pd\n",
    "import matplotlib.pyplot as plt\n",
    "import seaborn as sns\n",
    "from metrics_calculations import *"
   ]
  },
  {
   "cell_type": "code",
   "execution_count": null,
   "metadata": {},
   "outputs": [],
   "source": [
    "data = pd.read_csv('bitcoin_final.csv')"
   ]
  },
  {
   "cell_type": "code",
   "execution_count": null,
   "metadata": {},
   "outputs": [],
   "source": [
    "def reverse_date(data, remove_date=\"No\"):\n",
    "    '''Reverses the dataset so it is in chronological order. Optional to remove date column and set as index.'''\n",
    "    final_data = data.reindex(index=data.index[::-1])\n",
    "    if remove_date = \"Yes\":\n",
    "        # Need to reverse order of dataframe.\n",
    "        final_data = final_data.set_index(data['Date'])\n",
    "        del final_data['Date']\n",
    "    return final_data"
   ]
  },
  {
   "cell_type": "code",
   "execution_count": null,
   "metadata": {},
   "outputs": [],
   "source": [
    "def compute_metrics(name, data, rf, mar, market):\n",
    "    '''Computes 4 metrics of the Cryptocurrency and returns Pandas dataframe.'''\n",
    "    metrics = []\n",
    "    \n",
    "    metrics.append(calc_sharpe(data, rf))\n",
    "    metrics.append(calc_sortino(data, rf, mar))\n",
    "    metrics.append(calc_treynor(data, market))\n",
    "    metrics.append(calc_info(data, market))\n",
    "    \n",
    "    # Formats everything into a Pandas Dataframe to return.\n",
    "    metric_names = [\"Sharpe Ratio\", \"Sortino\", \"Treynor\", \"Info Ratio\"]\n",
    "    results = pd.DataFrame(data = metrics)\n",
    "    results.columns = metric_names\n",
    "    results.set_index(name)\n",
    "    \n",
    "    return results"
   ]
  }
 ],
 "metadata": {
  "kernelspec": {
   "display_name": "Python 3",
   "language": "python",
   "name": "python3"
  },
  "language_info": {
   "codemirror_mode": {
    "name": "ipython",
    "version": 3
   },
   "file_extension": ".py",
   "mimetype": "text/x-python",
   "name": "python",
   "nbconvert_exporter": "python",
   "pygments_lexer": "ipython3",
   "version": "3.6.4"
  }
 },
 "nbformat": 4,
 "nbformat_minor": 2
}
