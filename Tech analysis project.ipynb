{
 "cells": [
  {
   "cell_type": "code",
   "execution_count": 54,
   "metadata": {
    "collapsed": true
   },
   "outputs": [],
   "source": [
    "import numpy as np\n",
    "import matplotlib.pyplot as plt\n",
    "import pandas as pd\n",
    "import seaborn as sns\n",
    "from datetime import datetime"
   ]
  },
  {
   "cell_type": "code",
   "execution_count": 98,
   "metadata": {},
   "outputs": [
    {
     "data": {
      "text/html": [
       "<div>\n",
       "<style>\n",
       "    .dataframe thead tr:only-child th {\n",
       "        text-align: right;\n",
       "    }\n",
       "\n",
       "    .dataframe thead th {\n",
       "        text-align: left;\n",
       "    }\n",
       "\n",
       "    .dataframe tbody tr th {\n",
       "        vertical-align: top;\n",
       "    }\n",
       "</style>\n",
       "<table border=\"1\" class=\"dataframe\">\n",
       "  <thead>\n",
       "    <tr style=\"text-align: right;\">\n",
       "      <th></th>\n",
       "      <th>Open</th>\n",
       "      <th>High</th>\n",
       "      <th>Low</th>\n",
       "      <th>Close</th>\n",
       "      <th>Volume</th>\n",
       "      <th>MarketCap</th>\n",
       "    </tr>\n",
       "    <tr>\n",
       "      <th>Date</th>\n",
       "      <th></th>\n",
       "      <th></th>\n",
       "      <th></th>\n",
       "      <th></th>\n",
       "      <th></th>\n",
       "      <th></th>\n",
       "    </tr>\n",
       "  </thead>\n",
       "  <tbody>\n",
       "    <tr>\n",
       "      <th>22/11/2017</th>\n",
       "      <td>135.30</td>\n",
       "      <td>135.98</td>\n",
       "      <td>132.10</td>\n",
       "      <td>134.21</td>\n",
       "      <td>0</td>\n",
       "      <td>1500520000</td>\n",
       "    </tr>\n",
       "    <tr>\n",
       "      <th>21/11/2017</th>\n",
       "      <td>134.44</td>\n",
       "      <td>147.49</td>\n",
       "      <td>134.00</td>\n",
       "      <td>144.54</td>\n",
       "      <td>0</td>\n",
       "      <td>1491160000</td>\n",
       "    </tr>\n",
       "    <tr>\n",
       "      <th>20/11/2017</th>\n",
       "      <td>144.00</td>\n",
       "      <td>146.93</td>\n",
       "      <td>134.05</td>\n",
       "      <td>139.00</td>\n",
       "      <td>0</td>\n",
       "      <td>1597780000</td>\n",
       "    </tr>\n",
       "    <tr>\n",
       "      <th>19/11/2017</th>\n",
       "      <td>139.00</td>\n",
       "      <td>139.89</td>\n",
       "      <td>107.72</td>\n",
       "      <td>116.99</td>\n",
       "      <td>0</td>\n",
       "      <td>1542820000</td>\n",
       "    </tr>\n",
       "    <tr>\n",
       "      <th>18/11/2017</th>\n",
       "      <td>116.38</td>\n",
       "      <td>125.60</td>\n",
       "      <td>92.28</td>\n",
       "      <td>105.21</td>\n",
       "      <td>0</td>\n",
       "      <td>1292190000</td>\n",
       "    </tr>\n",
       "  </tbody>\n",
       "</table>\n",
       "</div>"
      ],
      "text/plain": [
       "              Open    High     Low   Close  Volume   MarketCap\n",
       "Date                                                          \n",
       "22/11/2017  135.30  135.98  132.10  134.21       0  1500520000\n",
       "21/11/2017  134.44  147.49  134.00  144.54       0  1491160000\n",
       "20/11/2017  144.00  146.93  134.05  139.00       0  1597780000\n",
       "19/11/2017  139.00  139.89  107.72  116.99       0  1542820000\n",
       "18/11/2017  116.38  125.60   92.28  105.21       0  1292190000"
      ]
     },
     "execution_count": 98,
     "metadata": {},
     "output_type": "execute_result"
    }
   ],
   "source": [
    "btc = pd.read_csv('https://raw.githubusercontent.com/chrishyland/Crypto-position/master/bitcoin_final.csv')\n",
    "crix = pd.read_csv('https://raw.githubusercontent.com/chrishyland/Crypto-position/master/crix.csv')\n",
    "def reverse_date(btc, remove_date=\"Yes\"):\n",
    "    '''Reverses the dataset so it is in chronological order. Optional to remove date column and set as index.'''\n",
    "    final_data = btc.reindex(index=btc.index[::-1])\n",
    "    if remove_date == \"Yes\":\n",
    "        # Need to reverse order of dataframe.\n",
    "        final_data = final_data.set_index(btc['Date'])\n",
    "        del final_data['Date']\n",
    "    return final_data\n",
    "dt = reverse_date(btc)\n",
    "\n",
    "dt.head()\n"
   ]
  },
  {
   "cell_type": "markdown",
   "metadata": {},
   "source": [
    "We need to figure out how to configure plotly rangeslider to toggle window size, as I am an idiot and have no idea how to."
   ]
  },
  {
   "cell_type": "code",
   "execution_count": 163,
   "metadata": {},
   "outputs": [
    {
     "name": "stderr",
     "output_type": "stream",
     "text": [
      "/anaconda3/lib/python3.6/site-packages/ipykernel_launcher.py:11: FutureWarning:\n",
      "\n",
      "pd.rolling_max is deprecated for Series and will be removed in a future version, replace with \n",
      "\tSeries.rolling(window=9,center=False).max()\n",
      "\n",
      "/anaconda3/lib/python3.6/site-packages/ipykernel_launcher.py:12: FutureWarning:\n",
      "\n",
      "pd.rolling_min is deprecated for Series and will be removed in a future version, replace with \n",
      "\tSeries.rolling(window=9,center=False).min()\n",
      "\n"
     ]
    },
    {
     "data": {
      "image/png": "[encoded data removed]",
      "text/plain": [
       "<matplotlib.figure.Figure at 0x1a178f9eb8>"
      ]
     },
     "metadata": {},
     "output_type": "display_data"
    }
   ],
   "source": [
    "# How far back do we go? set window size.\n",
    "window = 9\n",
    "\n",
    "# This computes the Ichimoku Kinkō Hyō measure, which is a trend identification system\n",
    "\n",
    "data = dt\n",
    "high_prices = data['High']\n",
    "close_prices = data['Close']\n",
    "low_prices = data['Low']\n",
    "dates = dt.index\n",
    "n_period_high = pd.rolling_max(data['High'], window= window )\n",
    "n_period_low = pd.rolling_min(data['Low'], window= window )\n",
    "ichimoku = (n_period_high + n_period_low) /2\n",
    "dt['ichimoku'] = ichimoku\n",
    "\n",
    "# Bollinger bands! if you like, change the number of standard deviations.\n",
    "\n",
    "no_of_std = 2\n",
    " \n",
    "# Simple moving average (rolling mean)\n",
    "rolling_mean = dt['Close'].rolling(window).mean()\n",
    "rolling_std = dt['Close'].rolling(window).std()\n",
    " \n",
    "rolling = dt['Close'].rolling(window=window)\n",
    "dt['sma'] = rolling.mean()\n",
    "\n",
    "    \n",
    "# Graph it all\n",
    "dt['Rolling Mean'] = rolling_mean\n",
    "dt['Bollinger High'] = rolling_mean + (rolling_std * no_of_std)\n",
    "dt['Bollinger Low'] = rolling_mean - (rolling_std * no_of_std)\n",
    "dt[['Close','Bollinger High','Bollinger Low', 'ichimoku','sma']].plot()\n",
    "plt.show()"
   ]
  },
  {
   "cell_type": "code",
   "execution_count": 159,
   "metadata": {},
   "outputs": [
    {
     "name": "stdout",
     "output_type": "stream",
     "text": [
      "High five! You successfully sent some data to your account on plotly. View your plot in your browser at https://plot.ly/~alexoh/0 or inside your plot.ly account where it is named 'basic-line'\n"
     ]
    },
    {
     "data": {
      "text/html": [
       "<iframe id=\"igraph\" scrolling=\"no\" style=\"border:none;\" seamless=\"seamless\" src=\"https://plot.ly/~alexoh/0.embed\" height=\"525px\" width=\"100%\"></iframe>"
      ],
      "text/plain": [
       "<plotly.tools.PlotlyDisplay object>"
      ]
     },
     "execution_count": 159,
     "metadata": {},
     "output_type": "execute_result"
    }
   ],
   "source": [
    "import numpy as np\n",
    "import plotly\n",
    "plotly.tools.set_credentials_file(username='alexoh', api_key='')\n",
    "import plotly.plotly as py\n",
    "\n",
    "# Create a trace\n",
    "trace = go.Ohlc(\n",
    "    open = dt['Open'],\n",
    "    high = dt['High'],\n",
    "    low = dt['Low'],\n",
    "    close = dt['Close']\n",
    ")\n",
    "data = [trace]\n",
    "\n",
    "layout = dict(\n",
    "    title = \"BTC USD Cross\"\n",
    ")\n",
    "fig = dict(data=data, layout=layout)\n",
    "\n",
    "py.iplot(fig, filename='basic-line')"
   ]
  },
  {
   "cell_type": "code",
   "execution_count": 181,
   "metadata": {},
   "outputs": [
    {
     "data": {
      "text/html": [
       "<iframe id=\"igraph\" scrolling=\"no\" style=\"border:none;\" seamless=\"seamless\" src=\"https://plot.ly/~alexoh/2.embed\" height=\"525px\" width=\"100%\"></iframe>"
      ],
      "text/plain": [
       "<plotly.tools.PlotlyDisplay object>"
      ]
     },
     "execution_count": 181,
     "metadata": {},
     "output_type": "execute_result"
    }
   ],
   "source": [
    "boll_low = go.Scatter(\n",
    "    x=dt.index,\n",
    "    y=dt['Bollinger High'],\n",
    "    name = \"Bollinger High\",\n",
    "    line = dict(color = '#66c2ff'),\n",
    "    opacity = 0.8)\n",
    "\n",
    "boll_high = go.Scatter(\n",
    "    x=dt.index,\n",
    "    y=dt['Bollinger Low'],\n",
    "    name = \"Bollinger Low\",\n",
    "    line = dict(color = '#99d6ff'),\n",
    "    opacity = 0.8)\n",
    "close = go.Scatter(\n",
    "    x=dt.index,\n",
    "    y=dt['Close'],\n",
    "    name = \"Close\",\n",
    "    line = dict(color = '#006bb3')\n",
    "\n",
    ")\n",
    "\n",
    "data1 = [boll_low, boll_high, close]\n",
    "layout1 = dict(\n",
    "    title='Bollinger bands',\n",
    "    xaxis=dict(\n",
    "        rangeselector=dict(\n",
    "            buttons=list([\n",
    "                dict(count=1,\n",
    "                     label='1m',\n",
    "                     step='month',\n",
    "                     stepmode='backward'),\n",
    "                dict(count=6,\n",
    "                     label='6m',\n",
    "                     step='month',\n",
    "                     stepmode='backward'),\n",
    "                dict(step='all')\n",
    "            ])\n",
    "        ),\n",
    "        rangeslider=dict(range=\"28/4/2013 - 22/11/2017\"),\n",
    "        type='date'\n",
    "    )\n",
    ")\n",
    "\n",
    "fig = dict(data=data1, layout=layout1)\n",
    "\n",
    "py.iplot(fig, filename='basic-line2')"
   ]
  },
  {
   "cell_type": "code",
   "execution_count": null,
   "metadata": {
    "collapsed": true
   },
   "outputs": [],
   "source": []
  }
 ],
 "metadata": {
  "kernelspec": {
   "display_name": "Python 3",
   "language": "python",
   "name": "python3"
  },
  "language_info": {
   "codemirror_mode": {
    "name": "ipython",
    "version": 3
   },
   "file_extension": ".py",
   "mimetype": "text/x-python",
   "name": "python",
   "nbconvert_exporter": "python",
   "pygments_lexer": "ipython3",
   "version": "3.6.3"
  }
 },
 "nbformat": 4,
 "nbformat_minor": 2
}
