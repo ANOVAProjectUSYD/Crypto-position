{
 "cells": [
  {
   "cell_type": "code",
   "execution_count": 83,
   "metadata": {
    "collapsed": true
   },
   "outputs": [],
   "source": [
    "import numpy as np\n",
    "import matplotlib.pyplot as plt\n",
    "import pandas as pd\n",
    "import seaborn as sns\n",
    "from datetime import datetime\n",
    "from scipy import stats"
   ]
  },
  {
   "cell_type": "code",
   "execution_count": 84,
   "metadata": {
    "collapsed": true
   },
   "outputs": [],
   "source": [
    "def ichimoku_plot(df):\n",
    "    '''Computes the Ichimoku Kinkō Hyō trend identification system.'''\n",
    "    # This plot has 5 components to it. \n",
    "    high_prices = df['High']\n",
    "    close_prices = df['Close']\n",
    "    low_prices = df['Low']\n",
    "    dates = df.index\n",
    "    \n",
    "    # Ichimoku (Conversion Line): (9-period high + 9-period low)/2\n",
    "    nine_period_high = df['High'].rolling(window=9, center=False).max() # Usually window is 9 days.\n",
    "    nine_period_low = df['Low'].rolling(window=9, center=False).max() \n",
    "    ichimoku = (nine_period_high + nine_period_low) /2\n",
    "    df['tenkan_sen'] = ichimoku\n",
    "    \n",
    "    # Kijun-Sen (Base line): (26-period high + 26-period low)/2)\n",
    "    period26_high = high_prices.rolling(window=26, center=False).max() # Window normally 26 days.\n",
    "    period26_low = low_prices.rolling(window=26, center=False).min()\n",
    "    df['kijun_sen'] = (period26_high + period26_low) / 2\n",
    "    \n",
    "    # Senkou Span A (Leading span A): (Base line + Conversion line) / 2\n",
    "    df['senkou_span_a'] = ((df['tenkan_sen'] + df['kijun_sen']) / 2).shift(26) \n",
    "\n",
    "    # Senkou Span B (Leading span B): (52-period high + 52-period low)/2\n",
    "    period52_high = high_prices.rolling(window=52, center=False).max()\n",
    "    period52_low = low_prices.rolling(window=52, center=False).min()\n",
    "    df['senkou_span_b'] = ((period52_high + period52_low) / 2).shift(26)\n",
    "    \n",
    "    # Chikou Span (Lagging span): Closing price of last 22 periods.\n",
    "    df['chikou_span'] = close_prices.shift(-22)\n",
    "    \n",
    "    return df[df.columns[6:]]"
   ]
  },
  {
   "cell_type": "code",
   "execution_count": 85,
   "metadata": {
    "collapsed": true
   },
   "outputs": [],
   "source": [
    "def reverse_date(df, remove_date=\"Yes\", ich_plot=\"Yes\"):\n",
    "    '''Reverses the dataset so it is in chronological order. Optional to remove date column and set as index.'''\n",
    "    final_data = df.reindex(index=df.index[::-1])\n",
    "    \n",
    "    # Fixing incorrect dates.\n",
    "    for i in range(0, len(df)): \n",
    "        if \"v\" in df.ix[i,'Date']:\n",
    "            new_date = df.ix[i,'Date'].replace('v', '/')\n",
    "            final_data.ix[i,'Date'] = new_date\n",
    "            \n",
    "    if remove_date == \"Yes\":\n",
    "        # Need to reverse order of dataframe.\n",
    "        final_data = final_data.set_index(final_data['Date'])\n",
    "        del final_data['Date']\n",
    "    \n",
    "    # Convert dates to datetime format.\n",
    "    final_data['Date'] = pd.to_datetime(final_data['Date'], dayfirst = True) \n",
    "    \n",
    "    if ich_plot == \"Yes\":\n",
    "        ichimoku_plot(final_data) # Append ichimoku columns.\n",
    "    \n",
    "    return final_data"
   ]
  },
  {
   "cell_type": "code",
   "execution_count": 86,
   "metadata": {
    "collapsed": true
   },
   "outputs": [],
   "source": [
    "def compute_metrics(name, data, rf, mar, market):\n",
    "    '''Computes 4 metrics of the Cryptocurrency and returns Pandas dataframe.'''\n",
    "    metrics = []\n",
    "    \n",
    "    metrics.append(calc_sharpe(data, rf))\n",
    "    metrics.append(calc_sortino(data, rf, mar))\n",
    "    metrics.append(calc_treynor(data, market))\n",
    "    metrics.append(calc_info(data, market))\n",
    "    \n",
    "    # Formats everything into a Pandas Dataframe to return.\n",
    "    metric_names = [\"Sharpe Ratio\", \"Sortino\", \"Treynor\", \"Info Ratio\"]\n",
    "    results = pd.DataFrame(data = metrics)\n",
    "    results.columns = metric_names\n",
    "    results.set_index(name)\n",
    "    \n",
    "    return results"
   ]
  },
  {
   "cell_type": "code",
   "execution_count": 87,
   "metadata": {
    "collapsed": true
   },
   "outputs": [],
   "source": [
    "def scale_volume(dataframe, scale_factor): \n",
    "    '''Append a column of volumes scaled down by specified factor'''\n",
    "    dataframe['Scaled Volume'] = dataframe['Volume']/scale_factor\n",
    "    return dataframe "
   ]
  },
  {
   "cell_type": "code",
   "execution_count": 88,
   "metadata": {
    "collapsed": true
   },
   "outputs": [],
   "source": [
    "def sma_plot(df, window):\n",
    "    '''Computes simple moving average.'''\n",
    "    rolling = df['Close'].rolling(window=window) # Window tells us how many days average to take.\n",
    "    return rolling.mean()"
   ]
  },
  {
   "cell_type": "code",
   "execution_count": 89,
   "metadata": {
    "collapsed": true
   },
   "outputs": [],
   "source": [
    "def bollinger_plot(df, window, num_sd):\n",
    "    '''Computes Bollinger bands depending on number of standard deviation and window.''' \n",
    "    rolling_mean = df['Close'].rolling(window).mean() # Window should be same as SMA.\n",
    "    rolling_std = df['Close'].rolling(window).std()\n",
    "    \n",
    "    bollinger = pd.DataFrame(data=None)\n",
    "    bollinger['Rolling Mean'] = rolling_mean\n",
    "    bollinger['Bollinger High'] = rolling_mean + (rolling_std * num_sd)\n",
    "    bollinger['Bollinger Low'] = rolling_mean - (rolling_std * num_sd)\n",
    "\n",
    "    return bollinger"
   ]
  },
  {
   "cell_type": "code",
   "execution_count": 90,
   "metadata": {
    "collapsed": true
   },
   "outputs": [],
   "source": [
    "import warnings\n",
    "warnings.filterwarnings('ignore') # Warnings were getting annoying.\n",
    "\n",
    "# Reading data \n",
    "btc = pd.read_csv('https://raw.githubusercontent.com/chrishyland/Crypto-position/master/bitcoin_final.csv')\n",
    "df = reverse_date(btc, \"No\")\n",
    "df = scale_volume(df, 3000000)\n",
    "\n",
    "ripple = pd.read_csv('https://raw.githubusercontent.com/chrishyland/Crypto-position/master/ripple_final.csv')\n",
    "df_rip = reverse_date(ripple, \"No\")\n",
    "df_rip = scale_volume(df_rip, 10000000000)\n",
    "\n",
    "ethereum = pd.read_csv('https://raw.githubusercontent.com/chrishyland/Crypto-position/master/ethereum_final.csv')\n",
    "df_eth = reverse_date(ethereum, \"No\")\n",
    "df_eth = scale_volume(df_eth, 30000000)\n",
    "\n",
    "# For market index.\n",
    "df_market = pd.read_csv('https://raw.githubusercontent.com/chrishyland/Crypto-position/master/crix.csv')\n",
    "df_market.columns = ['Date', 'Close'] # Rename column.\n",
    "df_market.reindex(index=df_market.index[::-1])\n",
    "df_market['Date'] = pd.to_datetime(df_market['Date'], dayfirst = True) "
   ]
  },
  {
   "cell_type": "code",
   "execution_count": 91,
   "metadata": {
    "collapsed": true
   },
   "outputs": [],
   "source": [
    "from bokeh.events import ButtonClick\n",
    "from bokeh.layouts import column, row, widgetbox\n",
    "from bokeh.models.widgets import Button, Select\n",
    "from bokeh.plotting import figure, output_file, show, ColumnDataSource, curdoc\n",
    "from bokeh.models import HoverTool, CustomJS, Legend\n",
    "from bokeh.models.widgets import DataTable, DateFormatter, TableColumn\n",
    "from bokeh.io import output_file, show\n",
    "from math import pi "
   ]
  },
  {
   "cell_type": "code",
   "execution_count": 92,
   "metadata": {
    "collapsed": false
   },
   "outputs": [
    {
     "data": {
      "text/plain": [
       "'legend = Legend(items = [\\n    (\"Tenkan-Sen\", [r1]),\\n    (\"Kijun-Sen\", [r2]),\\n    (\"Senkou Span A\", [r3]),\\n    (\"Senkou Span B\", [r4]),\\n    (\"Chikou Span\", [r5])\\n], location = (0,399))\\ntop_plot.add_layout(legend, \\'right\\')'"
      ]
     },
     "execution_count": 92,
     "metadata": {},
     "output_type": "execute_result"
    }
   ],
   "source": [
    "'''Constructing top candlestick chart with ichimoku plot.'''\n",
    "inc = df.Close > df.Open\n",
    "dec = df.Open > df.Close\n",
    "sourceInc_top = ColumnDataSource(ColumnDataSource.from_df(df.loc[inc]))\n",
    "sourceDec_top = ColumnDataSource(ColumnDataSource.from_df(df.loc[dec]))\n",
    "source_top = ColumnDataSource(data = df)\n",
    "\n",
    "inc1 = df_rip.Close > df_rip.Open\n",
    "dec1 = df_rip.Open > df_rip.Close\n",
    "sourceInc_bottom = ColumnDataSource(ColumnDataSource.from_df(df_rip.loc[inc1]))\n",
    "sourceDec_bottom = ColumnDataSource(ColumnDataSource.from_df(df_rip.loc[dec1]))\n",
    "source_bottom = ColumnDataSource(data = df_rip)\n",
    "\n",
    "def make_plot(sourceInc, sourceDec, source, df):\n",
    "    '''Construct top and bottom candle + ichimoku plot'''\n",
    "    w = 12*60*60*1000 # Half day in ms.\n",
    "\n",
    "    # Display last 6 months by default.\n",
    "    df_6m = df.iloc[-180:,]['Date']\n",
    "\n",
    "    TOOLS = \"pan, wheel_zoom, xbox_select, reset, save, hover\"\n",
    "    p = figure(x_axis_type = \"datetime\", tools = TOOLS,\n",
    "               plot_width = 1000, plot_height = 400, x_range = (df_6m.min(), df_6m.max()), active_drag = \"xbox_select\") \n",
    "    p.xaxis.major_label_orientation = pi/4\n",
    "    p.grid.grid_line_alpha = 0.30 \n",
    "\n",
    "    # Construct increasing and decreasing lines.\n",
    "    p.segment('Date', 'High', 'Date', 'Low', color=\"#17BECF\", source = sourceInc)\n",
    "    p.segment('Date', 'High', 'Date', 'Low', color=\"#FF7777\", source = sourceDec)\n",
    "\n",
    "    # Construct increasing and decreasing bars. \n",
    "    p.vbar('Date', w, 'Open', 'Close', fill_color=\"#17BECF\", line_color=\"#17BECF\", source = sourceInc)\n",
    "    p.vbar('Date', w, 'Open', 'Close', fill_color=\"#FF7777\", line_color=\"#FF7777\", source = sourceDec)\n",
    "\n",
    "\n",
    "    #Constructing hover tool for candle plot. Currently not working. TODO: fix this \n",
    "    #hover = p.select(dict(type=HoverTool))\n",
    "    #hover.mode = \"vline\"\n",
    "    '''hover.tooltips = [(\"Date\", \"@Date{%F}\"),\n",
    "                      (\"Open\", \"@Open{0.2f}\"), \n",
    "                      (\"High\", \"@High{0.2f}\"), \n",
    "                      (\"Low\", \"@Low{0.2f}\"), \n",
    "                      (\"Close\", \"@Close{0.2f}\")\n",
    "                      (\"Volume\", \"@Volume\"]'''\n",
    "    #hover.formatters = {'Date' : 'datetime'}\n",
    "\n",
    "    # Add line render to display ichimoku plot.\n",
    "    r1 = p.line('Date', 'tenkan_sen', line_width = 1, color = \"#92FFB4\", source = source)\n",
    "    r2 = p.line('Date', 'kijun_sen', line_width = 1, color = \"#92B2FF\", source = source)\n",
    "    r3 = p.line('Date', 'senkou_span_a', line_width = 1, color = \"#C092FF\", source = source)\n",
    "    r4 = p.line('Date', 'senkou_span_b', line_width = 1, color = \"#FFE592\", source = source)\n",
    "    r5 = p.line('Date', 'chikou_span', line_width = 1, color = \"#6878FB\", source = source)\n",
    "\n",
    "    # Add bar render to display scaled down volume. TODO: make generalised scale for all currencies. \n",
    "    r6 = p.vbar('Date', w, 'Scaled Volume', 0, color=\"#5DE0F6\", source = source)\n",
    "    \n",
    "    return p\n",
    "\n",
    "def fill_area(p, df):  \n",
    "    '''Fill area between senkou span A and B.'''\n",
    "    # TODO: colour red if B above A'\n",
    "    index = 0\n",
    "    index_a = np.argwhere(np.isnan(df['senkou_span_a'].values)).max()\n",
    "    index_b = np.argwhere(np.isnan(df['senkou_span_b'].values)).max()\n",
    "    if index_b > index_a: \n",
    "        index = index_b\n",
    "    else:\n",
    "        index = index_a \n",
    "    dates = df['Date'].values[index:]\n",
    "    senkou_span_a = df['senkou_span_a'].values[index:]\n",
    "    senkou_span_b = df['senkou_span_b'].values[index:]\n",
    "    band_y = np.append(senkou_span_a, senkou_span_b[::-1])\n",
    "    band_x = np.append(dates, dates[::-1])\n",
    "    return p.patch(band_x, band_y, color='#8EF3DA', fill_alpha = 0.20)\n",
    "\n",
    "top_plot = make_plot(sourceInc_top, sourceDec_top, source_top, df)\n",
    "r7 = fill_area(top_plot, df)\n",
    "top_plot.title.text = 'Bitcoin Chart'\n",
    "\n",
    "bottom_plot = make_plot(sourceInc_bottom, sourceDec_bottom, source_bottom, df_rip)\n",
    "r8 = fill_area(bottom_plot, df_rip)\n",
    "bottom_plot.title.text = 'Ripple Chart'\n",
    "\n",
    "#Display legend. TODO: adjust legend to make visible \n",
    "'''legend = Legend(items = [\n",
    "    (\"Tenkan-Sen\", [r1]),\n",
    "    (\"Kijun-Sen\", [r2]),\n",
    "    (\"Senkou Span A\", [r3]),\n",
    "    (\"Senkou Span B\", [r4]),\n",
    "    (\"Chikou Span\", [r5])\n",
    "], location = (0,399))\n",
    "top_plot.add_layout(legend, 'right')'''"
   ]
  },
  {
   "cell_type": "code",
   "execution_count": 93,
   "metadata": {
    "collapsed": true
   },
   "outputs": [],
   "source": [
    "def calc_returns(df_x, df_y): \n",
    "    '''Return data frame consisting of returns for 2 currencies.'''\n",
    "    start_date = df_x['Date'].min()\n",
    "    end_date = df_x['Date'].max()\n",
    "    \n",
    "    if df_y['Date'].min() > df_x['Date'].min(): # Dataset Y starts later so we start there. \n",
    "        start_date = df_y['Date'].min()\n",
    "    \n",
    "    if df_y['Date'].max() < df_x['Date'].max(): # Dataset Y ends earlier so we end there. \n",
    "        end_date = df_y['Date'].max()\n",
    "\n",
    "    d = {'x': [], 'y': []} \n",
    "    for i in range(0, len(df_x)-1): \n",
    "        if df_x.ix[i, 'Date'] > start_date and df_x.ix[i, 'Date'] < end_date: \n",
    "            ret = (df_x.ix[i+1,'Close'] - df_x.ix[i, 'Close'])/df_x.ix[i, 'Close']\n",
    "            d['x'].append(ret)\n",
    "\n",
    "    for i in range(0, len(df_y)-1): \n",
    "        if df_y.ix[i, 'Date'] > start_date and df_y.ix[i, 'Date'] < end_date:\n",
    "            ret = (df_y.ix[i+1,'Close'] - df_y.ix[i, 'Close'])/df_y.ix[i, 'Close']\n",
    "            d['y'].append(ret)\n",
    "\n",
    "    df_returns = pd.DataFrame(data = d)\n",
    "    return df_returns"
   ]
  },
  {
   "cell_type": "code",
   "execution_count": 94,
   "metadata": {
    "collapsed": true
   },
   "outputs": [],
   "source": [
    "def compute_regression(df):\n",
    "    '''Computes the multiple metrics from regression of 2 datasets.'''\n",
    "    df_x = df['x']\n",
    "    df_y = df['y']\n",
    "    beta, alpha, r_value, p_value, std_err = stats.linregress(df_x, df_y)\n",
    "    r2 = r_value**2 # R-squared.\n",
    "    metrics = [beta, alpha, r_value, r2, p_value, std_err]\n",
    "    return metrics"
   ]
  },
  {
   "cell_type": "code",
   "execution_count": 95,
   "metadata": {
    "collapsed": false
   },
   "outputs": [
    {
     "data": {
      "text/html": [
       "<div style=\"display: table;\"><div style=\"display: table-row;\"><div style=\"display: table-cell;\"><b title=\"bokeh.models.renderers.GlyphRenderer\">GlyphRenderer</b>(</div><div style=\"display: table-cell;\">id&nbsp;=&nbsp;'d9fddb59-a651-47ed-acf0-9637ef2348e7', <span id=\"8bce8f08-012f-46fd-ab4b-b0d587377f83\" style=\"cursor: pointer;\">&hellip;)</span></div></div><div class=\"9dcbd60d-f4f5-4be5-9183-5334d61eb54d\" style=\"display: none;\"><div style=\"display: table-cell;\"></div><div style=\"display: table-cell;\">data_source&nbsp;=&nbsp;ColumnDataSource(id='d045f15b-61fd-44d7-af3b-bd80e05131c9', ...),</div></div><div class=\"9dcbd60d-f4f5-4be5-9183-5334d61eb54d\" style=\"display: none;\"><div style=\"display: table-cell;\"></div><div style=\"display: table-cell;\">glyph&nbsp;=&nbsp;Circle(id='18f21a0a-5b4a-4c82-9864-9e4d0a730a9f', ...),</div></div><div class=\"9dcbd60d-f4f5-4be5-9183-5334d61eb54d\" style=\"display: none;\"><div style=\"display: table-cell;\"></div><div style=\"display: table-cell;\">hover_glyph&nbsp;=&nbsp;None,</div></div><div class=\"9dcbd60d-f4f5-4be5-9183-5334d61eb54d\" style=\"display: none;\"><div style=\"display: table-cell;\"></div><div style=\"display: table-cell;\">js_event_callbacks&nbsp;=&nbsp;{},</div></div><div class=\"9dcbd60d-f4f5-4be5-9183-5334d61eb54d\" style=\"display: none;\"><div style=\"display: table-cell;\"></div><div style=\"display: table-cell;\">js_property_callbacks&nbsp;=&nbsp;{},</div></div><div class=\"9dcbd60d-f4f5-4be5-9183-5334d61eb54d\" style=\"display: none;\"><div style=\"display: table-cell;\"></div><div style=\"display: table-cell;\">level&nbsp;=&nbsp;'glyph',</div></div><div class=\"9dcbd60d-f4f5-4be5-9183-5334d61eb54d\" style=\"display: none;\"><div style=\"display: table-cell;\"></div><div style=\"display: table-cell;\">muted&nbsp;=&nbsp;False,</div></div><div class=\"9dcbd60d-f4f5-4be5-9183-5334d61eb54d\" style=\"display: none;\"><div style=\"display: table-cell;\"></div><div style=\"display: table-cell;\">muted_glyph&nbsp;=&nbsp;None,</div></div><div class=\"9dcbd60d-f4f5-4be5-9183-5334d61eb54d\" style=\"display: none;\"><div style=\"display: table-cell;\"></div><div style=\"display: table-cell;\">name&nbsp;=&nbsp;None,</div></div><div class=\"9dcbd60d-f4f5-4be5-9183-5334d61eb54d\" style=\"display: none;\"><div style=\"display: table-cell;\"></div><div style=\"display: table-cell;\">nonselection_glyph&nbsp;=&nbsp;Circle(id='e278e152-b4ce-4608-8506-38c0746a7c17', ...),</div></div><div class=\"9dcbd60d-f4f5-4be5-9183-5334d61eb54d\" style=\"display: none;\"><div style=\"display: table-cell;\"></div><div style=\"display: table-cell;\">selection_glyph&nbsp;=&nbsp;Circle(id='e69f6032-0de7-4a1c-a59a-23be06053aec', ...),</div></div><div class=\"9dcbd60d-f4f5-4be5-9183-5334d61eb54d\" style=\"display: none;\"><div style=\"display: table-cell;\"></div><div style=\"display: table-cell;\">subscribed_events&nbsp;=&nbsp;[],</div></div><div class=\"9dcbd60d-f4f5-4be5-9183-5334d61eb54d\" style=\"display: none;\"><div style=\"display: table-cell;\"></div><div style=\"display: table-cell;\">tags&nbsp;=&nbsp;[],</div></div><div class=\"9dcbd60d-f4f5-4be5-9183-5334d61eb54d\" style=\"display: none;\"><div style=\"display: table-cell;\"></div><div style=\"display: table-cell;\">view&nbsp;=&nbsp;CDSView(id='e295546b-965e-460c-a6ae-1aac496e757b', ...),</div></div><div class=\"9dcbd60d-f4f5-4be5-9183-5334d61eb54d\" style=\"display: none;\"><div style=\"display: table-cell;\"></div><div style=\"display: table-cell;\">visible&nbsp;=&nbsp;True,</div></div><div class=\"9dcbd60d-f4f5-4be5-9183-5334d61eb54d\" style=\"display: none;\"><div style=\"display: table-cell;\"></div><div style=\"display: table-cell;\">x_range_name&nbsp;=&nbsp;'default',</div></div><div class=\"9dcbd60d-f4f5-4be5-9183-5334d61eb54d\" style=\"display: none;\"><div style=\"display: table-cell;\"></div><div style=\"display: table-cell;\">y_range_name&nbsp;=&nbsp;'default')</div></div></div>\n",
       "<script>\n",
       "(function() {\n",
       "  var expanded = false;\n",
       "  var ellipsis = document.getElementById(\"8bce8f08-012f-46fd-ab4b-b0d587377f83\");\n",
       "  ellipsis.addEventListener(\"click\", function() {\n",
       "    var rows = document.getElementsByClassName(\"9dcbd60d-f4f5-4be5-9183-5334d61eb54d\");\n",
       "    for (var i = 0; i < rows.length; i++) {\n",
       "      var el = rows[i];\n",
       "      el.style.display = expanded ? \"none\" : \"table-row\";\n",
       "    }\n",
       "    ellipsis.innerHTML = expanded ? \"&hellip;)\" : \"&lsaquo;&lsaquo;&lsaquo;\";\n",
       "    expanded = !expanded;\n",
       "  });\n",
       "})();\n",
       "</script>\n"
      ],
      "text/plain": [
       "GlyphRenderer(id='d9fddb59-a651-47ed-acf0-9637ef2348e7', ...)"
      ]
     },
     "execution_count": 95,
     "metadata": {},
     "output_type": "execute_result"
    }
   ],
   "source": [
    "'''Construct scatter correlation plot with market index.'''\n",
    "df_x = df\n",
    "df_y = df_market \n",
    "\n",
    "df_returns_2 = calc_returns(df_x, df_y)\n",
    "sourceCorr = ColumnDataSource(data = df_returns_2)\n",
    "corr_plot = figure(plot_width=400, plot_height=350,\n",
    "             tools='pan,wheel_zoom,box_select,reset', title = \"Bitcoin vs. Crix Returns\")\n",
    "corr_plot.circle('x', 'y', size=2, source=sourceCorr,\n",
    "            selection_color=\"orange\", alpha=0.6, nonselection_alpha=0.1, selection_alpha=0.4)"
   ]
  },
  {
   "cell_type": "code",
   "execution_count": 100,
   "metadata": {
    "collapsed": false
   },
   "outputs": [
    {
     "name": "stdout",
     "output_type": "stream",
     "text": [
      "[-0.03202605141232655, 0.003005098328427536, -0.03371877596187337, 0.0011369558523670095, 0.24137976121798013, 0.02732316051150661]\n"
     ]
    }
   ],
   "source": [
    "'''Creates data-table of correlation.'''\n",
    "metrics = compute_regression(df_returns_2)\n",
    "reg_data = dict(metrics=[\"Beta\", \"P-value of Beta\", \"Alpha\", \"Correlation\", \"R-squared\"],\n",
    "                values=[metrics[0], metrics[4], metrics[1], metrics[2], metrics[3]],\n",
    "            )\n",
    "reg_source = ColumnDataSource(reg_data)\n",
    "columns_table = [\n",
    "        TableColumn(field=\"metrics\", title=\"Metrics\"),\n",
    "        TableColumn(field=\"values\", title=\"Values\"),\n",
    "    ]\n",
    "data_table = DataTable(source=reg_source, columns=columns_table, width=400, height=280)"
   ]
  },
  {
   "cell_type": "code",
   "execution_count": 97,
   "metadata": {
    "collapsed": true
   },
   "outputs": [],
   "source": [
    "#Adding button widgets\n",
    "button_3m = Button(label= \"3 month\", width = 80)\n",
    "button_6m = Button(label = \"6 month\", width = 80)\n",
    "button_1y = Button(label = \"1 Year\", width = 80)\n",
    "button_ytd = Button(label = \"YTD\", width = 80)\n",
    "button_all = Button(label = \"All\", width = 80)\n",
    "\n",
    "def update_3m(): \n",
    "    '''Update zoom to 3 months'''\n",
    "    df_3m = df.iloc[-90:,]['Date']\n",
    "    top_plot.x_range.start = df_3m.min()\n",
    "    top_plot.x_range.end = df_3m.max()\n",
    "    bottom_plot.x_range.start = df_3m.min()\n",
    "    bottom_plot.x_range.end = df_3m.max()\n",
    "\n",
    "def update_6m():\n",
    "    '''Update zoom to 6 months'''\n",
    "    df_6m = df.iloc[-180:,]['Date']\n",
    "    top_plot.x_range.start = df_6m.min()\n",
    "    top_plot.x_range.end = df_6m.max()\n",
    "    bottom_plot.x_range.start = df_6m.min()\n",
    "    bottom_plot.x_range.end = df_6m.max()\n",
    "\n",
    "def update_1y():\n",
    "    '''Update zoom to 12 months'''\n",
    "    df_1y = df.iloc[-365:,]['Date']\n",
    "    top_plot.x_range.start = df_1y.min()\n",
    "    top_plot.x_range.end = df_1y.max()\n",
    "    bottom_plot.x_range.start = df_1y.min()\n",
    "    bottom_plot.x_range.end = df_1y.max()\n",
    "\n",
    "def update_ytd():\n",
    "    '''Update zoom to start of year'''\n",
    "    start_date = datetime.strptime(\"2017-1-01\", \"%Y-%m-%d\")\n",
    "    top_plot.x_range.start = start_date\n",
    "    top_plot.x_range.end = df['Date'].max()\n",
    "    bottom_plot.x_range.start = start_date\n",
    "    bottom_plot.x_range.end = df['Date'].max()\n",
    "\n",
    "def update_all(): \n",
    "    '''Update zoom to display all data'''\n",
    "    top_plot.x_range.start = df['Date'].min() \n",
    "    top_plot.x_range.end = df['Date'].max()\n",
    "    bottom_plot.x_range.start = df['Date'].min()\n",
    "    bottom_plot.x_range.end = df['Date'].max()\n",
    "    \n",
    "button_3m.on_click(update_3m)\n",
    "button_6m.on_click(update_6m)\n",
    "button_1y.on_click(update_1y)\n",
    "button_ytd.on_click(update_ytd)\n",
    "button_all.on_click(update_all)"
   ]
  },
  {
   "cell_type": "code",
   "execution_count": 98,
   "metadata": {
    "collapsed": false
   },
   "outputs": [],
   "source": [
    "# Create dropdown widgets. \n",
    "DEFAULT_TICKERS = ['Bitcoin', 'Ripple', 'Ethereum', 'Crix']\n",
    "\n",
    "def nix(val, lst):\n",
    "    '''Remove currently selected currency from dropdown list.'''\n",
    "    return [x for x in lst if x != val]\n",
    "\n",
    "dropdown_top = Select(value = \"Bitcoin\", options=nix('Crix', DEFAULT_TICKERS))\n",
    "dropdown_bottom = Select(value = \"Crix\", options=nix('Bitcoin', DEFAULT_TICKERS))\n",
    "\n",
    "def update_top_source(df, market = False): \n",
    "    '''Update source for top plot and x data for correlation plot.'''\n",
    "    global df_x, df_y, r7 \n",
    "\n",
    "    if market == False:  # Don't create ichimoku plots for CRIX data.\n",
    "        top_plot.renderers.remove(r7)\n",
    "        r7 = fill_area(top_plot, df)\n",
    "\n",
    "        inc = df.Close > df.Open\n",
    "        dec = df.Open > df.Close\n",
    "        newSourceInc = ColumnDataSource(ColumnDataSource.from_df(df.loc[inc]))\n",
    "        newSourceDec = ColumnDataSource(ColumnDataSource.from_df(df.loc[dec]))\n",
    "        newSource = ColumnDataSource(data = df)\n",
    "\n",
    "        sourceInc_top.data.update(newSourceInc.data)\n",
    "        sourceDec_top.data.update(newSourceDec.data)\n",
    "        source_top.data.update(newSource.data)\n",
    "        \n",
    "        top_plot.title.text = '%s Chart' % (dropdown_top.value)\n",
    "\n",
    "    df_x = df \n",
    "    # Update returns.\n",
    "    new_returns = calc_returns(df_x, df_y) \n",
    "    new_sourceCorr = new_returns \n",
    "    sourceCorr.data.update(new_sourceCorr)\n",
    "    \n",
    "    # Update correlation metrics.\n",
    "    new_reg_metrics = compute_regression(new_returns)\n",
    "    new_reg_data = dict(metrics=[\"Beta\", \"P-value of Beta\", \"Alpha\", \"Correlation\", \"R-squared\"],\n",
    "                values=[new_reg_metrics[0], new_reg_metrics[4], new_reg_metrics[1], \n",
    "                        new_reg_metrics[2], new_reg_metrics[3]],\n",
    "            )\n",
    "    new_reg_sourceCorr = new_reg_data\n",
    "    reg_source.data.update(new_reg_sourceCorr) \n",
    "    \n",
    "    corr_plot.title.text = '%s vs. %s Returns' % (dropdown_top.value, dropdown_bottom.value)\n",
    "\n",
    "def update_bottom_source(df, market = False):\n",
    "    '''Update source for bottom plot and y data for correlation plot.'''\n",
    "    global df_x, df_y, r8\n",
    "\n",
    "    if market == False: #Don't create ichimoku plots for CRIX data.\n",
    "        bottom_plot.renderers.remove(r8)\n",
    "        r8 = fill_area(bottom_plot, df)\n",
    "\n",
    "        inc = df.Close > df.Open\n",
    "        dec = df.Open > df.Close\n",
    "        newSourceInc = ColumnDataSource(ColumnDataSource.from_df(df.loc[inc]))\n",
    "        newSourceDec = ColumnDataSource(ColumnDataSource.from_df(df.loc[dec]))\n",
    "        newSource = ColumnDataSource(data = df)\n",
    "\n",
    "        sourceInc_bottom.data.update(newSourceInc.data)\n",
    "        sourceDec_bottom.data.update(newSourceDec.data)\n",
    "        source_bottom.data.update(newSource.data)\n",
    "\n",
    "        bottom_plot.title.text = '%s Chart' % (dropdown_bottom.value)\n",
    "\n",
    "    df_y = df\n",
    "    # Update returns.\n",
    "    new_returns = calc_returns(df_x, df_y)\n",
    "    new_sourceCorr = new_returns \n",
    "    sourceCorr.data.update(new_sourceCorr)\n",
    "    # Update correlation metrics.\n",
    "    new_reg_metrics = compute_regression(new_returns)\n",
    "    new_reg_data = dict(metrics=[\"Beta\", \"P-value of Beta\", \"Alpha\", \"Correlation\", \"R-squared\"],\n",
    "                values=[new_reg_metrics[0], new_reg_metrics[4], new_reg_metrics[1], \n",
    "                        new_reg_metrics[2], new_reg_metrics[3]],\n",
    "            )\n",
    "    new_reg_sourceCorr = new_reg_data\n",
    "    reg_source.data.update(new_reg_sourceCorr) \n",
    "    \n",
    "    corr_plot.title.text = '%s vs. %s Returns' % (dropdown_top.value, dropdown_bottom.value)\n",
    "    \n",
    "def update_top_plot(attrname, old, new):\n",
    "    '''Update top plot to selected data set''' \n",
    "    dropdown_bottom.options = nix(new, DEFAULT_TICKERS)    \n",
    "    if dropdown_top.value == 'Crix':\n",
    "        update_top_source(df_market, True)\n",
    "    if dropdown_top.value == 'Ripple':\n",
    "        update_top_source(df_rip)\n",
    "    if dropdown_top.value == 'Bitcoin':\n",
    "        update_top_source(df)\n",
    "    if dropdown_top.value == 'Ethereum':\n",
    "        update_top_source(df_eth)\n",
    "\n",
    "def update_bottom_plot(attrname, old, new):\n",
    "    '''Update bottom plot to selected data set'''\n",
    "    dropdown_top.options = nix(new, DEFAULT_TICKERS)\n",
    "    if dropdown_bottom.value == 'Crix': \n",
    "        update_bottom_source(df_market, True)\n",
    "    if dropdown_bottom.value == 'Ripple':\n",
    "        update_bottom_source(df_rip)\n",
    "    if dropdown_bottom.value == 'Bitcoin':\n",
    "        update_bottom_source(df)\n",
    "    if dropdown_bottom.value == 'Ethereum':\n",
    "        update_bottom_source(df_eth)\n",
    "\n",
    "dropdown_top.on_change('value', update_top_plot)\n",
    "dropdown_bottom.on_change('value', update_bottom_plot)"
   ]
  },
  {
   "cell_type": "code",
   "execution_count": 99,
   "metadata": {
    "collapsed": true
   },
   "outputs": [],
   "source": [
    "#Format layout and display plot\n",
    "button_controls = row([button_3m, button_6m, button_1y, button_ytd, button_all])\n",
    "dropdown_controls = row(corr_plot, column(dropdown_top, dropdown_bottom))\n",
    "price_plots = column(column(button_controls, top_plot), bottom_plot)\n",
    "\n",
    "output_file(\"dashboard.html\", title=\"dashboard.py\")\n",
    "layout = column(dropdown_controls, widgetbox(data_table), price_plots)\n",
    "curdoc().add_root(layout)\n",
    "show(layout)"
   ]
  },
  {
   "cell_type": "code",
   "execution_count": null,
   "metadata": {
    "collapsed": true
   },
   "outputs": [],
   "source": []
  }
 ],
 "metadata": {
  "kernelspec": {
   "display_name": "Python 3",
   "language": "python",
   "name": "python3"
  },
  "language_info": {
   "codemirror_mode": {
    "name": "ipython",
    "version": 3
   },
   "file_extension": ".py",
   "mimetype": "text/x-python",
   "name": "python",
   "nbconvert_exporter": "python",
   "pygments_lexer": "ipython3",
   "version": "3.6.0"
  }
 },
 "nbformat": 4,
 "nbformat_minor": 2
}
