{
 "cells": [
  {
   "cell_type": "code",
   "execution_count": 1,
   "metadata": {
    "collapsed": true
   },
   "outputs": [],
   "source": [
    "import numpy as np\n",
    "import matplotlib.pyplot as plt\n",
    "import pandas as pd\n",
    "import seaborn as sns\n",
    "from datetime import datetime"
   ]
  },
  {
   "cell_type": "code",
   "execution_count": 2,
   "metadata": {
    "collapsed": true
   },
   "outputs": [],
   "source": [
    "def ichimoku_plot(df):\n",
    "    '''Computes the Ichimoku Kinkō Hyō trend identification system.'''\n",
    "    # This plot has 5 components to it. \n",
    "    high_prices = df['High']\n",
    "    close_prices = df['Close']\n",
    "    low_prices = df['Low']\n",
    "    dates = df.index\n",
    "    \n",
    "    # Ichimoku (Conversion Line): (9-period high + 9-period low)/2\n",
    "    nine_period_high = df['High'].rolling(window=9, center=False).max() # Usually window is 9 days.\n",
    "    nine_period_low = df['Low'].rolling(window=9, center=False).max() \n",
    "    ichimoku = (nine_period_high + nine_period_low) /2\n",
    "    df['tenkan_sen'] = ichimoku\n",
    "    \n",
    "    # Kijun-Sen (Base line): (26-period high + 26-period low)/2)\n",
    "    period26_high = high_prices.rolling(window=26, center=False).max() # Window normally 26 days.\n",
    "    period26_low = low_prices.rolling(window=26, center=False).min()\n",
    "    df['kijun_sen'] = (period26_high + period26_low) / 2\n",
    "    \n",
    "    # Senkou Span A (Leading span A): (Base line + Conversion line) / 2\n",
    "    df['senkou_span_a'] = ((df['tenkan_sen'] + df['kijun_sen']) / 2).shift(26) \n",
    "\n",
    "    # Senkou Span B (Leading span B): (52-period high + 52-period low)/2\n",
    "    period52_high = high_prices.rolling(window=52, center=False).max()\n",
    "    period52_low = low_prices.rolling(window=52, center=False).min()\n",
    "    df['senkou_span_b'] = ((period52_high + period52_low) / 2).shift(26)\n",
    "    \n",
    "    # Chikou Span (Lagging span): Closing price of last 22 periods\n",
    "    df['chikou_span'] = close_prices.shift(-22)\n",
    "    \n",
    "    return df[df.columns[6:]]"
   ]
  },
  {
   "cell_type": "code",
   "execution_count": 3,
   "metadata": {
    "collapsed": false
   },
   "outputs": [],
   "source": [
    "def reverse_date(btc, remove_date=\"Yes\"):\n",
    "    '''Reverses the dataset so it is in chronological order. Optional to remove date column and set as index.'''\n",
    "    final_data = btc.reindex(index=btc.index[::-1])\n",
    "    \n",
    "    #Fixing incorrect dates \n",
    "    for i in range(0, len(btc)): \n",
    "        if \"v\" in btc.ix[i,'Date']:\n",
    "            new_date = btc.ix[i,'Date'].replace('v', '/')\n",
    "            final_data.ix[i,'Date'] = new_date\n",
    "            \n",
    "    if remove_date == \"Yes\":\n",
    "        # Need to reverse order of dataframe.\n",
    "        final_data = final_data.set_index(final_data['Date'])\n",
    "        del final_data['Date']\n",
    "    \n",
    "    #Convert dates to datetime format \n",
    "    final_data['Date'] = pd.to_datetime(final_data['Date'], dayfirst = True) \n",
    "    #Append ichimoku columns \n",
    "    ichimoku_plot(final_data)\n",
    "    \n",
    "    return final_data"
   ]
  },
  {
   "cell_type": "code",
   "execution_count": 4,
   "metadata": {
    "collapsed": true
   },
   "outputs": [],
   "source": [
    "def scale_volume(dataframe, scale_factor): \n",
    "    '''Append a column of volumes scaled down by specified factor'''\n",
    "    dataframe['Scaled Volume'] = dataframe['Volume']/scale_factor\n",
    "    return dataframe "
   ]
  },
  {
   "cell_type": "code",
   "execution_count": 15,
   "metadata": {
    "collapsed": true
   },
   "outputs": [],
   "source": [
    "def sma_plot(df, window):\n",
    "    '''Computes simple moving average.'''\n",
    "    rolling = df['Close'].rolling(window=window) # Window tells us how many days average to take.\n",
    "    return rolling.mean()"
   ]
  },
  {
   "cell_type": "code",
   "execution_count": 16,
   "metadata": {
    "collapsed": true
   },
   "outputs": [],
   "source": [
    "def bollinger_plot(df, window, num_sd):\n",
    "    '''Computes Bollinger bands depending on number of standard deviation and window.''' \n",
    "    rolling_mean = df['Close'].rolling(window).mean() # Window should be same as SMA.\n",
    "    rolling_std = df['Close'].rolling(window).std()\n",
    "    \n",
    "    bollinger = pd.DataFrame(data=None)\n",
    "    bollinger['Rolling Mean'] = rolling_mean\n",
    "    bollinger['Bollinger High'] = rolling_mean + (rolling_std * num_sd)\n",
    "    bollinger['Bollinger Low'] = rolling_mean - (rolling_std * num_sd)\n",
    "\n",
    "    return bollinger"
   ]
  },
  {
   "cell_type": "code",
   "execution_count": 17,
   "metadata": {
    "collapsed": false
   },
   "outputs": [],
   "source": [
    "#Reading data \n",
    "btc = pd.read_csv('https://raw.githubusercontent.com/chrishyland/Crypto-position/master/bitcoin_final.csv')\n",
    "df = reverse_date(btc, \"No\")\n",
    "df = scale_volume(df, 3000000)\n",
    "\n",
    "ripple = pd.read_csv('https://raw.githubusercontent.com/chrishyland/Crypto-position/master/ripple_final.csv')\n",
    "df_rip = reverse_date(ripple, \"No\")\n",
    "df_rip = scale_volume(df_rip, 10000000000)\n",
    "\n",
    "ethereum = pd.read_csv('https://raw.githubusercontent.com/chrishyland/Crypto-position/master/ethereum_final.csv')\n",
    "df_eth = reverse_date(ethereum, \"No\")\n",
    "df_eth = scale_volume(df_eth, 30000000)"
   ]
  },
  {
   "cell_type": "code",
   "execution_count": 18,
   "metadata": {
    "collapsed": true
   },
   "outputs": [],
   "source": [
    "from bokeh.events import ButtonClick\n",
    "from bokeh.layouts import column, row, widgetbox\n",
    "from bokeh.models.widgets import Button, Select\n",
    "from bokeh.plotting import figure, output_file, show, ColumnDataSource, curdoc\n",
    "from bokeh.models import HoverTool, CustomJS, Legend\n",
    "from math import pi "
   ]
  },
  {
   "cell_type": "code",
   "execution_count": 19,
   "metadata": {
    "collapsed": false
   },
   "outputs": [
    {
     "data": {
      "text/plain": [
       "'legend = Legend(items = [\\n    (\"Tenkan-Sen\", [r1]),\\n    (\"Kijun-Sen\", [r2]),\\n    (\"Senkou Span A\", [r3]),\\n    (\"Senkou Span B\", [r4]),\\n    (\"Chikou Span\", [r5])\\n], location = (0,399))\\ntop_plot.add_layout(legend, \\'right\\')'"
      ]
     },
     "execution_count": 19,
     "metadata": {},
     "output_type": "execute_result"
    }
   ],
   "source": [
    "'''Constructing top candlestick chart with ichimoku plot'''\n",
    "inc = df.Close > df.Open\n",
    "dec = df.Open > df.Close\n",
    "sourceInc_top = ColumnDataSource(ColumnDataSource.from_df(df.loc[inc]))\n",
    "sourceDec_top = ColumnDataSource(ColumnDataSource.from_df(df.loc[dec]))\n",
    "source_top = ColumnDataSource(data = df)\n",
    "\n",
    "inc1 = df_rip.Close > df_rip.Open\n",
    "dec1 = df_rip.Open > df_rip.Close\n",
    "sourceInc_bottom = ColumnDataSource(ColumnDataSource.from_df(df_rip.loc[inc1]))\n",
    "sourceDec_bottom = ColumnDataSource(ColumnDataSource.from_df(df_rip.loc[dec1]))\n",
    "source_bottom = ColumnDataSource(data = df_rip)\n",
    "\n",
    "def make_plot(sourceInc, sourceDec, source, df):\n",
    "    '''Construct top and bottom candle + ichimoku plot'''\n",
    "    w = 12*60*60*1000 #half day in ms\n",
    "\n",
    "    #Display last 6 months by default \n",
    "    df_6m = df.iloc[-180:,]['Date']\n",
    "\n",
    "    TOOLS = \"pan, wheel_zoom, xbox_select, reset, save, hover\"\n",
    "    p = figure(x_axis_type = \"datetime\", tools = TOOLS,\n",
    "               plot_width = 1000, plot_height = 400, x_range = (df_6m.min(), df_6m.max()), active_drag = \"xbox_select\") \n",
    "    p.xaxis.major_label_orientation = pi/4\n",
    "    p.grid.grid_line_alpha = 0.30 \n",
    "\n",
    "    #Construct increasing and decreasing lines \n",
    "    p.segment('Date', 'High', 'Date', 'Low', color=\"#17BECF\", source = sourceInc)\n",
    "    p.segment('Date', 'High', 'Date', 'Low', color=\"#FF7777\", source = sourceDec)\n",
    "\n",
    "    #Construct increasing and decreasing bars \n",
    "    p.vbar('Date', w, 'Open', 'Close', fill_color=\"#17BECF\", line_color=\"#17BECF\", source = sourceInc)\n",
    "    p.vbar('Date', w, 'Open', 'Close', fill_color=\"#FF7777\", line_color=\"#FF7777\", source = sourceDec)\n",
    "\n",
    "\n",
    "    #Constructing hover tool for candle plot. Currently not working. TODO: fix this \n",
    "    #hover = p.select(dict(type=HoverTool))\n",
    "    #hover.mode = \"vline\"\n",
    "    '''hover.tooltips = [(\"Date\", \"@Date{%F}\"),\n",
    "                      (\"Open\", \"@Open{0.2f}\"), \n",
    "                      (\"High\", \"@High{0.2f}\"), \n",
    "                      (\"Low\", \"@Low{0.2f}\"), \n",
    "                      (\"Close\", \"@Close{0.2f}\")\n",
    "                      (\"Volume\", \"@Volume\"]'''\n",
    "    #hover.formatters = {'Date' : 'datetime'}\n",
    "\n",
    "    #add line render to display ichimoku plot \n",
    "    r1 = p.line('Date', 'tenkan_sen', line_width = 1, color = \"#92FFB4\", source = source)\n",
    "    r2 = p.line('Date', 'kijun_sen', line_width = 1, color = \"#92B2FF\", source = source)\n",
    "    r3 = p.line('Date', 'senkou_span_a', line_width = 1, color = \"#C092FF\", source = source)\n",
    "    r4 = p.line('Date', 'senkou_span_b', line_width = 1, color = \"#FFE592\", source = source)\n",
    "    r5 = p.line('Date', 'chikou_span', line_width = 1, color = \"#6878FB\", source = source)\n",
    "\n",
    "    #Add bar render to display scaled down volume. TODO: make generalised scale for all curreencies \n",
    "    r6 = p.vbar('Date', w, 'Scaled Volume', 0, color=\"#5DE0F6\", source = source)\n",
    "    \n",
    "    return p\n",
    "\n",
    "def fill_area(p, df):  \n",
    "    '''Fill area between senkou span A and B. TODO: colour red if B above A'''\n",
    "    index = 0\n",
    "    index_a = np.argwhere(np.isnan(df['senkou_span_a'].values)).max()\n",
    "    index_b = np.argwhere(np.isnan(df['senkou_span_b'].values)).max()\n",
    "    if index_b > index_a: \n",
    "        index = index_b\n",
    "    else:\n",
    "        index = index_a \n",
    "    dates = df['Date'].values[index:]\n",
    "    senkou_span_a = df['senkou_span_a'].values[index:]\n",
    "    senkou_span_b = df['senkou_span_b'].values[index:]\n",
    "    band_y = np.append(senkou_span_a, senkou_span_b[::-1])\n",
    "    band_x = np.append(dates, dates[::-1])\n",
    "    return p.patch(band_x, band_y, color='#8EF3DA', fill_alpha = 0.20)\n",
    "\n",
    "top_plot = make_plot(sourceInc_top, sourceDec_top, source_top, df)\n",
    "r7 = fill_area(top_plot, df)\n",
    "top_plot.title.text = 'Bitcoin Chart'\n",
    "\n",
    "bottom_plot = make_plot(sourceInc_bottom, sourceDec_bottom, source_bottom, df_rip)\n",
    "r8 = fill_area(bottom_plot, df_rip)\n",
    "bottom_plot.title.text = 'Ripple Chart'\n",
    "\n",
    "#Display legend. TODO: adjust legend to make visible \n",
    "'''legend = Legend(items = [\n",
    "    (\"Tenkan-Sen\", [r1]),\n",
    "    (\"Kijun-Sen\", [r2]),\n",
    "    (\"Senkou Span A\", [r3]),\n",
    "    (\"Senkou Span B\", [r4]),\n",
    "    (\"Chikou Span\", [r5])\n",
    "], location = (0,399))\n",
    "top_plot.add_layout(legend, 'right')'''"
   ]
  },
  {
   "cell_type": "code",
   "execution_count": 20,
   "metadata": {
    "collapsed": false
   },
   "outputs": [],
   "source": [
    "def calc_returns(df_x, df_y): \n",
    "    '''Return data frame consisting of returns for 2 currencies'''\n",
    "    start_date = df_x['Date'].min()\n",
    "    \n",
    "    if df_y['Date'].min() > df_x['Date'].min(): # y has a later date \n",
    "        start_date = df_y['Date'].min()\n",
    "    \n",
    "    d = {'x': [], 'y': []} \n",
    "    for i in range(0, len(df_x)-1): \n",
    "        if df_x.ix[i, 'Date'] > start_date: \n",
    "            ret = (df_x.ix[i+1,'Close'] - df_x.ix[i, 'Close'])/df_x.ix[i, 'Close']\n",
    "            d['x'].append(ret)\n",
    "            \n",
    "    for i in range(0, len(df_y)-1): \n",
    "        if df_y.ix[i, 'Date'] > start_date:\n",
    "            ret = (df_y.ix[i+1,'Close'] - df_y.ix[i, 'Close'])/df_y.ix[i, 'Close']\n",
    "            d['y'].append(ret)\n",
    "\n",
    "    df_returns = pd.DataFrame(data = d)\n",
    "    return df_returns"
   ]
  },
  {
   "cell_type": "code",
   "execution_count": 21,
   "metadata": {
    "collapsed": false
   },
   "outputs": [
    {
     "data": {
      "text/html": [
       "<div style=\"display: table;\"><div style=\"display: table-row;\"><div style=\"display: table-cell;\"><b title=\"bokeh.models.renderers.GlyphRenderer\">GlyphRenderer</b>(</div><div style=\"display: table-cell;\">id&nbsp;=&nbsp;'ca87dfc3-08e8-44c3-8c2b-df9fd82a0b3c', <span id=\"5802daee-f1c4-49d3-a2de-b8b141381fb8\" style=\"cursor: pointer;\">&hellip;)</span></div></div><div class=\"f0d9663e-5c1c-4fe1-be23-cad3974be851\" style=\"display: none;\"><div style=\"display: table-cell;\"></div><div style=\"display: table-cell;\">data_source&nbsp;=&nbsp;ColumnDataSource(id='df06adb5-7d30-44c9-9ed1-8253c067a3d3', ...),</div></div><div class=\"f0d9663e-5c1c-4fe1-be23-cad3974be851\" style=\"display: none;\"><div style=\"display: table-cell;\"></div><div style=\"display: table-cell;\">glyph&nbsp;=&nbsp;Circle(id='0c9500eb-31c1-49b9-996a-b55d61f5f36a', ...),</div></div><div class=\"f0d9663e-5c1c-4fe1-be23-cad3974be851\" style=\"display: none;\"><div style=\"display: table-cell;\"></div><div style=\"display: table-cell;\">hover_glyph&nbsp;=&nbsp;None,</div></div><div class=\"f0d9663e-5c1c-4fe1-be23-cad3974be851\" style=\"display: none;\"><div style=\"display: table-cell;\"></div><div style=\"display: table-cell;\">js_event_callbacks&nbsp;=&nbsp;{},</div></div><div class=\"f0d9663e-5c1c-4fe1-be23-cad3974be851\" style=\"display: none;\"><div style=\"display: table-cell;\"></div><div style=\"display: table-cell;\">js_property_callbacks&nbsp;=&nbsp;{},</div></div><div class=\"f0d9663e-5c1c-4fe1-be23-cad3974be851\" style=\"display: none;\"><div style=\"display: table-cell;\"></div><div style=\"display: table-cell;\">level&nbsp;=&nbsp;'glyph',</div></div><div class=\"f0d9663e-5c1c-4fe1-be23-cad3974be851\" style=\"display: none;\"><div style=\"display: table-cell;\"></div><div style=\"display: table-cell;\">muted&nbsp;=&nbsp;False,</div></div><div class=\"f0d9663e-5c1c-4fe1-be23-cad3974be851\" style=\"display: none;\"><div style=\"display: table-cell;\"></div><div style=\"display: table-cell;\">muted_glyph&nbsp;=&nbsp;None,</div></div><div class=\"f0d9663e-5c1c-4fe1-be23-cad3974be851\" style=\"display: none;\"><div style=\"display: table-cell;\"></div><div style=\"display: table-cell;\">name&nbsp;=&nbsp;None,</div></div><div class=\"f0d9663e-5c1c-4fe1-be23-cad3974be851\" style=\"display: none;\"><div style=\"display: table-cell;\"></div><div style=\"display: table-cell;\">nonselection_glyph&nbsp;=&nbsp;Circle(id='cd8d4a28-9246-4922-9dde-99d0c70bb868', ...),</div></div><div class=\"f0d9663e-5c1c-4fe1-be23-cad3974be851\" style=\"display: none;\"><div style=\"display: table-cell;\"></div><div style=\"display: table-cell;\">selection_glyph&nbsp;=&nbsp;Circle(id='1420882b-c1d4-47c1-bf8c-c8406e5508dc', ...),</div></div><div class=\"f0d9663e-5c1c-4fe1-be23-cad3974be851\" style=\"display: none;\"><div style=\"display: table-cell;\"></div><div style=\"display: table-cell;\">subscribed_events&nbsp;=&nbsp;[],</div></div><div class=\"f0d9663e-5c1c-4fe1-be23-cad3974be851\" style=\"display: none;\"><div style=\"display: table-cell;\"></div><div style=\"display: table-cell;\">tags&nbsp;=&nbsp;[],</div></div><div class=\"f0d9663e-5c1c-4fe1-be23-cad3974be851\" style=\"display: none;\"><div style=\"display: table-cell;\"></div><div style=\"display: table-cell;\">view&nbsp;=&nbsp;CDSView(id='f6b861e4-8008-4d9b-91a8-c8a8824789a7', ...),</div></div><div class=\"f0d9663e-5c1c-4fe1-be23-cad3974be851\" style=\"display: none;\"><div style=\"display: table-cell;\"></div><div style=\"display: table-cell;\">visible&nbsp;=&nbsp;True,</div></div><div class=\"f0d9663e-5c1c-4fe1-be23-cad3974be851\" style=\"display: none;\"><div style=\"display: table-cell;\"></div><div style=\"display: table-cell;\">x_range_name&nbsp;=&nbsp;'default',</div></div><div class=\"f0d9663e-5c1c-4fe1-be23-cad3974be851\" style=\"display: none;\"><div style=\"display: table-cell;\"></div><div style=\"display: table-cell;\">y_range_name&nbsp;=&nbsp;'default')</div></div></div>\n",
       "<script>\n",
       "(function() {\n",
       "  var expanded = false;\n",
       "  var ellipsis = document.getElementById(\"5802daee-f1c4-49d3-a2de-b8b141381fb8\");\n",
       "  ellipsis.addEventListener(\"click\", function() {\n",
       "    var rows = document.getElementsByClassName(\"f0d9663e-5c1c-4fe1-be23-cad3974be851\");\n",
       "    for (var i = 0; i < rows.length; i++) {\n",
       "      var el = rows[i];\n",
       "      el.style.display = expanded ? \"none\" : \"table-row\";\n",
       "    }\n",
       "    ellipsis.innerHTML = expanded ? \"&hellip;)\" : \"&lsaquo;&lsaquo;&lsaquo;\";\n",
       "    expanded = !expanded;\n",
       "  });\n",
       "})();\n",
       "</script>\n"
      ],
      "text/plain": [
       "GlyphRenderer(id='ca87dfc3-08e8-44c3-8c2b-df9fd82a0b3c', ...)"
      ]
     },
     "execution_count": 21,
     "metadata": {},
     "output_type": "execute_result"
    }
   ],
   "source": [
    "#Construct scatter correlation plot \n",
    "df_returns = calc_returns(df, df_rip)\n",
    "source_corr = ColumnDataSource(data = df_returns)\n",
    "corr_plot = figure(plot_width=400, plot_height=350,\n",
    "             tools='pan,wheel_zoom,box_select,reset', title = \"Bitcoin vs. Ripple Returns\")\n",
    "corr_plot.circle('x', 'y', size=2, source=source_corr,\n",
    "            selection_color=\"orange\", alpha=0.6, nonselection_alpha=0.1, selection_alpha=0.4)"
   ]
  },
  {
   "cell_type": "code",
   "execution_count": 22,
   "metadata": {
    "collapsed": false
   },
   "outputs": [],
   "source": [
    "#Adding button widgets\n",
    "button_3m = Button(label= \"3 month\", width = 80)\n",
    "button_6m = Button(label = \"6 month\", width = 80)\n",
    "button_1y = Button(label = \"1 Year\", width = 80)\n",
    "button_ytd = Button(label = \"YTD\", width = 80)\n",
    "button_all = Button(label = \"All\", width = 80)\n",
    "\n",
    "def update_3m(): \n",
    "    '''Update zoom to 3 months'''\n",
    "    df_3m = df.iloc[-90:,]['Date']\n",
    "    top_plot.x_range.start = df_3m.min()\n",
    "    top_plot.x_range.end = df_3m.max()\n",
    "    bottom_plot.x_range.start = df_3m.min()\n",
    "    bottom_plot.x_range.end = df_3m.max()\n",
    "\n",
    "def update_6m():\n",
    "    '''Update zoom to 6 months'''\n",
    "    df_6m = df.iloc[-180:,]['Date']\n",
    "    top_plot.x_range.start = df_6m.min()\n",
    "    top_plot.x_range.end = df_6m.max()\n",
    "    bottom_plot.x_range.start = df_6m.min()\n",
    "    bottom_plot.x_range.end = df_6m.max()\n",
    "\n",
    "def update_1y():\n",
    "    '''Update zoom to 12 months'''\n",
    "    df_1y = df.iloc[-365:,]['Date']\n",
    "    top_plot.x_range.start = df_1y.min()\n",
    "    top_plot.x_range.end = df_1y.max()\n",
    "    bottom_plot.x_range.start = df_1y.min()\n",
    "    bottom_plot.x_range.end = df_1y.max()\n",
    "\n",
    "def update_ytd():\n",
    "    '''Update zoom to start of year'''\n",
    "    start_date = datetime.strptime(\"2017-1-01\", \"%Y-%m-%d\")\n",
    "    top_plot.x_range.start = start_date\n",
    "    top_plot.x_range.end = df['Date'].max()\n",
    "    bottom_plot.x_range.start = start_date\n",
    "    bottom_plot.x_range.end = df['Date'].max()\n",
    "\n",
    "def update_all(): \n",
    "    '''Update zoom to display all data'''\n",
    "    top_plot.x_range.start = df['Date'].min() \n",
    "    top_plot.x_range.end = df['Date'].max()\n",
    "    bottom_plot.x_range.start = df['Date'].min()\n",
    "    bottom_plot.x_range.end = df['Date'].max()\n",
    "    \n",
    "button_3m.on_click(update_3m)\n",
    "button_6m.on_click(update_6m)\n",
    "button_1y.on_click(update_1y)\n",
    "button_ytd.on_click(update_ytd)\n",
    "button_all.on_click(update_all)"
   ]
  },
  {
   "cell_type": "code",
   "execution_count": 23,
   "metadata": {
    "collapsed": false
   },
   "outputs": [],
   "source": [
    "#Create dropdown widgets \n",
    "DEFAULT_TICKERS = ['Bitcoin', 'Ripple', 'Ethereum']\n",
    "\n",
    "def nix(val, lst):\n",
    "    '''Remove currently selected currency from dropdown list'''\n",
    "    return [x for x in lst if x != val]\n",
    "\n",
    "dropdown_top = Select(value = \"Bitcoin\", options=nix('Ripple', DEFAULT_TICKERS))\n",
    "dropdown_bottom = Select(value = \"Ripple\", options=nix('Bitcoin', DEFAULT_TICKERS))\n",
    "\n",
    "def update_source(df, plot, top = True): \n",
    "    '''Update the source for the top candle + ichimoku plot'''\n",
    "    inc = df.Close > df.Open\n",
    "    dec = df.Open > df.Close\n",
    "    newSourceInc = ColumnDataSource(ColumnDataSource.from_df(df.loc[inc]))\n",
    "    newSourceDec = ColumnDataSource(ColumnDataSource.from_df(df.loc[dec]))\n",
    "    newSource = ColumnDataSource(data = df)\n",
    "    \n",
    "    if top == True: \n",
    "        sourceInc_top.data.update(newSourceInc.data)\n",
    "        sourceDec_top.data.update(newSourceDec.data)\n",
    "        source_top.data.update(newSource.data)\n",
    "    else: \n",
    "        sourceInc_bottom.data.update(newSourceInc.data)\n",
    "        sourceDec_bottom.data.update(newSourceDec.data)\n",
    "        source_bottom.data.update(newSource.data)\n",
    "        \n",
    "def update_top_plot(attrname, old, new):\n",
    "    '''Update top plot to selected data set''' \n",
    "    dropdown_bottom.options = nix(new, DEFAULT_TICKERS)\n",
    "    top_plot.title.text = '%s Chart' % (dropdown_top.value)\n",
    "    \n",
    "    global r7\n",
    "    top_plot.renderers.remove(r7)\n",
    "\n",
    "    if dropdown_top.value == 'Ripple':\n",
    "        update_source(df_rip, top_plot)\n",
    "        r7 = fill_area(top_plot, df_rip)\n",
    "    if dropdown_top.value == 'Bitcoin':\n",
    "        update_source(df, top_plot)\n",
    "        r7 = fill_area(top_plot, df)\n",
    "    if dropdown_top.value == 'Ethereum':\n",
    "        update_source(df_eth, top_plot)\n",
    "        r7 = fill_area(top_plot, df_eth)\n",
    "\n",
    "def update_bottom_plot(attrname, old, new):\n",
    "    '''Update bottom plot to selected data set'''\n",
    "    dropdown_top.options = nix(new, DEFAULT_TICKERS)\n",
    "    bottom_plot.title.text = '%s Chart' % (dropdown_bottom.value)\n",
    "    \n",
    "    global r8\n",
    "    bottom_plot.renderers.remove(r8)\n",
    "\n",
    "    if dropdown_bottom.value == 'Ripple':\n",
    "        update_source(df_rip, bottom_plot, False)\n",
    "        r8 = fill_area(bottom_plot, df_rip)\n",
    "    if dropdown_bottom.value == 'Bitcoin':\n",
    "        update_source(df, bottom_plot, False)\n",
    "        r8 = fill_area(bottom_plot, df)\n",
    "    if dropdown_bottom.value == 'Ethereum':\n",
    "        update_source(df_eth, bottom_plot, False)\n",
    "        r8 = fill_area(bottom_plot, df_eth)\n",
    "\n",
    "dropdown_top.on_change('value', update_top_plot)\n",
    "dropdown_bottom.on_change('value', update_bottom_plot)"
   ]
  },
  {
   "cell_type": "code",
   "execution_count": 24,
   "metadata": {
    "collapsed": false
   },
   "outputs": [],
   "source": [
    "#Format layout and display plot\n",
    "button_controls = row([button_3m, button_6m, button_1y, button_ytd, button_all])\n",
    "dropdown_controls = row(corr_plot, column(dropdown_top, dropdown_bottom))\n",
    "price_plots = column(column(button_controls, top_plot), bottom_plot)\n",
    "\n",
    "output_file(\"dashboard.html\", title=\"dashboard.py\")\n",
    "layout = column(dropdown_controls, price_plots)\n",
    "curdoc().add_root(layout)\n",
    "show(layout)"
   ]
  },
  {
   "cell_type": "code",
   "execution_count": null,
   "metadata": {
    "collapsed": true
   },
   "outputs": [],
   "source": []
  }
 ],
 "metadata": {
  "kernelspec": {
   "display_name": "Python 3",
   "language": "python",
   "name": "python3"
  },
  "language_info": {
   "codemirror_mode": {
    "name": "ipython",
    "version": 3
   },
   "file_extension": ".py",
   "mimetype": "text/x-python",
   "name": "python",
   "nbconvert_exporter": "python",
   "pygments_lexer": "ipython3",
   "version": "3.6.0"
  }
 },
 "nbformat": 4,
 "nbformat_minor": 2
}
