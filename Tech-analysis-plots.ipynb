{
 "cells": [
  {
   "cell_type": "code",
   "execution_count": 102,
   "metadata": {
    "collapsed": true
   },
   "outputs": [],
   "source": [
    "import numpy as np\n",
    "import matplotlib.pyplot as plt\n",
    "import pandas as pd\n",
    "import seaborn as sns\n",
    "from datetime import datetime"
   ]
  },
  {
   "cell_type": "code",
   "execution_count": 103,
   "metadata": {
    "collapsed": false
   },
   "outputs": [],
   "source": [
    "def reverse_date(btc, remove_date=\"Yes\"):\n",
    "    '''Reverses the dataset so it is in chronological order. Optional to remove date column and set as index.'''\n",
    "    final_data = btc.reindex(index=btc.index[::-1])\n",
    "    \n",
    "    #Fixing incorrect dates \n",
    "    for i in range(0, len(btc)): \n",
    "        if \"v\" in btc.ix[i,'Date']:\n",
    "            new_date = btc.ix[i,'Date'].replace('v', '/')\n",
    "            final_data.ix[i,'Date'] = new_date\n",
    "            \n",
    "    if remove_date == \"Yes\":\n",
    "        # Need to reverse order of dataframe.\n",
    "        final_data = final_data.set_index(final_data['Date'])\n",
    "        del final_data['Date']\n",
    "    return final_data"
   ]
  },
  {
   "cell_type": "code",
   "execution_count": 104,
   "metadata": {
    "collapsed": false
   },
   "outputs": [
    {
     "data": {
      "text/html": [
       "<div>\n",
       "<table border=\"1\" class=\"dataframe\">\n",
       "  <thead>\n",
       "    <tr style=\"text-align: right;\">\n",
       "      <th></th>\n",
       "      <th>Date</th>\n",
       "      <th>Open</th>\n",
       "      <th>High</th>\n",
       "      <th>Low</th>\n",
       "      <th>Close</th>\n",
       "      <th>Volume</th>\n",
       "      <th>MarketCap</th>\n",
       "    </tr>\n",
       "  </thead>\n",
       "  <tbody>\n",
       "    <tr>\n",
       "      <th>1669</th>\n",
       "      <td>28/04/2013</td>\n",
       "      <td>135.30</td>\n",
       "      <td>135.98</td>\n",
       "      <td>132.10</td>\n",
       "      <td>134.21</td>\n",
       "      <td>0</td>\n",
       "      <td>1500520000</td>\n",
       "    </tr>\n",
       "    <tr>\n",
       "      <th>1668</th>\n",
       "      <td>29/04/2013</td>\n",
       "      <td>134.44</td>\n",
       "      <td>147.49</td>\n",
       "      <td>134.00</td>\n",
       "      <td>144.54</td>\n",
       "      <td>0</td>\n",
       "      <td>1491160000</td>\n",
       "    </tr>\n",
       "    <tr>\n",
       "      <th>1667</th>\n",
       "      <td>30/04/2013</td>\n",
       "      <td>144.00</td>\n",
       "      <td>146.93</td>\n",
       "      <td>134.05</td>\n",
       "      <td>139.00</td>\n",
       "      <td>0</td>\n",
       "      <td>1597780000</td>\n",
       "    </tr>\n",
       "    <tr>\n",
       "      <th>1666</th>\n",
       "      <td>01/05/2013</td>\n",
       "      <td>139.00</td>\n",
       "      <td>139.89</td>\n",
       "      <td>107.72</td>\n",
       "      <td>116.99</td>\n",
       "      <td>0</td>\n",
       "      <td>1542820000</td>\n",
       "    </tr>\n",
       "    <tr>\n",
       "      <th>1665</th>\n",
       "      <td>02/05/2013</td>\n",
       "      <td>116.38</td>\n",
       "      <td>125.60</td>\n",
       "      <td>92.28</td>\n",
       "      <td>105.21</td>\n",
       "      <td>0</td>\n",
       "      <td>1292190000</td>\n",
       "    </tr>\n",
       "  </tbody>\n",
       "</table>\n",
       "</div>"
      ],
      "text/plain": [
       "            Date    Open    High     Low   Close  Volume   MarketCap\n",
       "1669  28/04/2013  135.30  135.98  132.10  134.21       0  1500520000\n",
       "1668  29/04/2013  134.44  147.49  134.00  144.54       0  1491160000\n",
       "1667  30/04/2013  144.00  146.93  134.05  139.00       0  1597780000\n",
       "1666  01/05/2013  139.00  139.89  107.72  116.99       0  1542820000\n",
       "1665  02/05/2013  116.38  125.60   92.28  105.21       0  1292190000"
      ]
     },
     "execution_count": 104,
     "metadata": {},
     "output_type": "execute_result"
    }
   ],
   "source": [
    "btc = pd.read_csv('https://raw.githubusercontent.com/chrishyland/Crypto-position/master/bitcoin_final.csv')\n",
    "crix = pd.read_csv('https://raw.githubusercontent.com/chrishyland/Crypto-position/master/crix.csv')\n",
    "\n",
    "df = reverse_date(btc, \"No\")\n",
    "df.head()"
   ]
  },
  {
   "cell_type": "code",
   "execution_count": 105,
   "metadata": {
    "collapsed": true
   },
   "outputs": [],
   "source": [
    "def ichimoku_plot(df):\n",
    "    '''Computes the Ichimoku Kinkō Hyō trend identification system.'''\n",
    "    # This plot has 5 components to it. \n",
    "    high_prices = df['High']\n",
    "    close_prices = df['Close']\n",
    "    low_prices = df['Low']\n",
    "    dates = df.index\n",
    "    \n",
    "    # Ichimoku (Conversion Line): (9-period high + 9-period low)/2\n",
    "    nine_period_high = df['High'].rolling(window=9, center=False).max() # Usually window is 9 days.\n",
    "    nine_period_low = df['Low'].rolling(window=9, center=False).max() \n",
    "    ichimoku = (nine_period_high + nine_period_low) /2\n",
    "    df['tenkan_sen'] = ichimoku\n",
    "    \n",
    "    # Kijun-Sen (Base line): (26-period high + 26-period low)/2)\n",
    "    period26_high = high_prices.rolling(window=26, center=False).max() # Window normally 26 days.\n",
    "    period26_low = low_prices.rolling(window=26, center=False).min()\n",
    "    df['kijun_sen'] = (period26_high + period26_low) / 2\n",
    "    \n",
    "    # Senkou Span A (Leading span A): (Base line + Conversion line) / 2\n",
    "    df['senkou_span_a'] = ((df['tenkan_sen'] + df['kijun_sen']) / 2).shift(26) \n",
    "\n",
    "    # Senkou Span B (Leading span B): (52-period high + 52-period low)/2\n",
    "    period52_high = high_prices.rolling(window=52, center=False).max()\n",
    "    period52_low = low_prices.rolling(window=52, center=False).min()\n",
    "    df['senkou_span_b'] = ((period52_high + period52_low) / 2).shift(26)\n",
    "    \n",
    "    # Chikou Span (Lagging span): Closing price of last 22 periods\n",
    "    df['chikou_span'] = close_prices.shift(-22)\n",
    "    \n",
    "    return df[df.columns[6:]]"
   ]
  },
  {
   "cell_type": "code",
   "execution_count": 106,
   "metadata": {
    "collapsed": true
   },
   "outputs": [],
   "source": [
    "def sma_plot(df, window):\n",
    "    '''Computes simple moving average.'''\n",
    "    rolling = df['Close'].rolling(window=window) # Window tells us how many days average to take.\n",
    "    return rolling.mean()"
   ]
  },
  {
   "cell_type": "code",
   "execution_count": 107,
   "metadata": {
    "collapsed": true
   },
   "outputs": [],
   "source": [
    "def bollinger_plot(df, window, num_sd):\n",
    "    '''Computes Bollinger bands depending on number of standard deviation and window.''' \n",
    "    rolling_mean = df['Close'].rolling(window).mean() # Window should be same as SMA.\n",
    "    rolling_std = df['Close'].rolling(window).std()\n",
    "    \n",
    "    bollinger = pd.DataFrame(data=None)\n",
    "    bollinger['Rolling Mean'] = rolling_mean\n",
    "    bollinger['Bollinger High'] = rolling_mean + (rolling_std * num_sd)\n",
    "    bollinger['Bollinger Low'] = rolling_mean - (rolling_std * num_sd)\n",
    "\n",
    "    return bollinger"
   ]
  },
  {
   "cell_type": "code",
   "execution_count": 108,
   "metadata": {
    "collapsed": true
   },
   "outputs": [],
   "source": [
    "# TODO: Configure Bokeh to allow for toggle configuration for sliding bar. Allows us to choose the date.\n",
    "# Example: - https://finance.yahoo.com/chart/AAPL#eyJpbnRlcnZhbCI6ImRheSIsInBlcmlvZGljaXR5IjoxLCJ0aW1lVW5pdCI6bnVsbCwiY2FuZGxlV2lkdGgiOjgsInZvbHVtZVVuZGVybGF5Ijp0cnVlLCJhZGoiOnRydWUsImNyb3NzaGFpciI6dHJ1ZSwiY2hhcnRUeXBlIjoibGluZSIsImV4dGVuZGVkIjpmYWxzZSwibWFya2V0U2Vzc2lvbnMiOnt9LCJhZ2dyZWdhdGlvblR5cGUiOiJvaGxjIiwiY2hhcnRTY2FsZSI6ImxpbmVhciIsInBhbmVscyI6eyJjaGFydCI6eyJwZXJjZW50IjoxLCJkaXNwbGF5IjoiQUFQTCIsImNoYXJ0TmFtZSI6ImNoYXJ0IiwidG9wIjowfX0sInNldFNwYW4iOnt9LCJsaW5lV2lkdGgiOjIsInN0cmlwZWRCYWNrZ3JvdWQiOnRydWUsImV2ZW50cyI6dHJ1ZSwiY29sb3IiOiIjMDA4MWYyIiwic3ltYm9scyI6W3sic3ltYm9sIjoiQUFQTCIsInN5bWJvbE9iamVjdCI6eyJzeW1ib2wiOiJBQVBMIn0sInBlcmlvZGljaXR5IjoxLCJpbnRlcnZhbCI6ImRheSIsInRpbWVVbml0IjpudWxsLCJzZXRTcGFuIjp7fX1dLCJzdHVkaWVzIjp7InZvbCB1bmRyIjp7InR5cGUiOiJ2b2wgdW5kciIsImlucHV0cyI6eyJpZCI6InZvbCB1bmRyIiwiZGlzcGxheSI6InZvbCB1bmRyIn0sIm91dHB1dHMiOnsiVXAgVm9sdW1lIjoiIzAwYjA2MSIsIkRvd24gVm9sdW1lIjoiI0ZGMzMzQSJ9LCJwYW5lbCI6ImNoYXJ0IiwicGFyYW1ldGVycyI6eyJoZWlnaHRQZXJjZW50YWdlIjowLjI1LCJ3aWR0aEZhY3RvciI6MC40NSwiY2hhcnROYW1lIjoiY2hhcnQifX0sIuKAjEJvbGxpbmdlciBCYW5kc%2BKAjCAoQywxMCwyLG1hLHkpIjp7InR5cGUiOiJCb2xsaW5nZXIgQmFuZHMiLCJpbnB1dHMiOnsiRmllbGQiOiJDbG9zZSIsIlBlcmlvZCI6IjEwIiwiU3RhbmRhcmQgRGV2aWF0aW9ucyI6MiwiTW92aW5nIEF2ZXJhZ2UgVHlwZSI6InNpbXBsZSIsIkNoYW5uZWwgRmlsbCI6dHJ1ZSwiaWQiOiLigIxCb2xsaW5nZXIgQmFuZHPigIwgKEMsMTAsMixtYSx5KSIsImRpc3BsYXkiOiLigIxCb2xsaW5nZXIgQmFuZHPigIwgKEMsMTAsMixtYSx5KSJ9LCJvdXRwdXRzIjp7IkJvbGxpbmdlciBCYW5kcyBUb3AiOiIjZmZkYjQ4IiwiQm9sbGluZ2VyIEJhbmRzIE1lZGlhbiI6IiNmZmEzM2YiLCJCb2xsaW5nZXIgQmFuZHMgQm90dG9tIjoiI2ZmYmQ3NCJ9LCJwYW5lbCI6ImNoYXJ0IiwicGFyYW1ldGVycyI6eyJjaGFydE5hbWUiOiJjaGFydCJ9fX19"
   ]
  },
  {
   "cell_type": "code",
   "execution_count": 109,
   "metadata": {
    "collapsed": false
   },
   "outputs": [],
   "source": [
    "'''Constructing candle price chart with ichimoku plot'''\n",
    "from bokeh.events import ButtonClick\n",
    "from bokeh.layouts import column, row, widgetbox\n",
    "from bokeh.models.widgets import DataTable, TableColumn, Button\n",
    "from bokeh.plotting import figure, output_file, show, ColumnDataSource, curdoc\n",
    "from bokeh.models import HoverTool, CustomJS, Legend\n",
    "from math import pi \n",
    "\n",
    "df['Date'] = pd.to_datetime(df['Date'], dayfirst = True) \n",
    "\n",
    "inc = df.Close > df.Open\n",
    "dec = df.Open > df.Close\n",
    "w = 12*60*60*1000 #half day in ms\n",
    "\n",
    "#Display last 6 months by default \n",
    "df_6m = df.iloc[-180:,]['Date']\n",
    "\n",
    "TOOLS = \"pan, wheel_zoom, box_zoom, reset, save, hover\"\n",
    "p = figure(x_axis_type = \"datetime\", tools = TOOLS,\n",
    "           plot_width = 1000, title = \"Bitcoin Candlestick Chart\", x_range = (df_6m.min(), df_6m.max())) \n",
    "p.xaxis.major_label_orientation = pi/4\n",
    "p.grid.grid_line_alpha = 0.30 \n",
    "\n",
    "#Construct increasing and decreasing lines \n",
    "p.segment(df.Date[inc], df.High[inc], df.Date[inc], df.Low[inc], color=\"#17BECF\")\n",
    "p.segment(df.Date[dec], df.High[dec], df.Date[dec], df.Low[dec], color=\"#FF7777\")\n",
    "\n",
    "#Construct increasing and decreasing bars \n",
    "p.vbar(df.Date[inc], w, df.Open[inc], df.Close[inc], fill_color=\"#17BECF\", line_color=\"#17BECF\")\n",
    "p.vbar(df.Date[dec], w, df.Open[dec], df.Close[dec], fill_color=\"#FF7777\", line_color=\"#FF7777\")\n",
    "\n",
    "sourceInc=ColumnDataSource(ColumnDataSource.from_df(df.loc[inc]))\n",
    "sourceDec=ColumnDataSource(ColumnDataSource.from_df(df.loc[dec]))\n",
    "\n",
    "#Constructing hover tool for candle plot. Currently not working \n",
    "#hover = p.select(dict(type=HoverTool))\n",
    "#hover.mode = \"vline\"\n",
    "'''hover.tooltips = [(\"Date\", \"@Date{%F}\"),\n",
    "                  (\"Open\", \"@Open{0.2f}\"), \n",
    "                  (\"High\", \"@High{0.2f}\"), \n",
    "                  (\"Low\", \"@Low{0.2f}\"), \n",
    "                  (\"Close\", \"@Close{0.2f}\")\n",
    "                  (\"Volume\", \"@Volume\"]'''\n",
    "#hover.formatters = {'Date' : 'datetime'}\n",
    "\n",
    "#add line render to display ichimoku plot \n",
    "ichimoku_plot(df)\n",
    "r1 = p.line(df['Date'], df['tenkan_sen'], line_width = 1, color = \"#92FFB4\")\n",
    "r2 = p.line(df['Date'], df['kijun_sen'], line_width = 1, color = \"#92B2FF\")\n",
    "r3 = p.line(df['Date'], df['senkou_span_a'], line_width = 1, color = \"#C092FF\")\n",
    "r4 = p.line(df['Date'], df['senkou_span_b'], line_width = 1, color = \"#FFE592\")\n",
    "r5 = p.line(df['Date'], df['chikou_span'], line_width = 1, color = \"#6878FB\")\n",
    "\n",
    "#Add bar render to display scaled down volume.Change bar colours upward/downward trend \n",
    "p.vbar(df['Date'], w, df['Volume']/3000000, 0, color=\"#5DE0F6\")\n",
    "\n",
    "'''Fill area between senkou span A and B. If A above B, colour green. If B above A, color red'''\n",
    "index = 0\n",
    "index_a = np.argwhere(np.isnan(df['senkou_span_a'].values)).max()\n",
    "index_b = np.argwhere(np.isnan(df['senkou_span_b'].values)).max()\n",
    "if index_b > index_a: \n",
    "    index = index_b\n",
    "else:\n",
    "    index = index_a \n",
    "dates = df['Date'].values[index:]\n",
    "senkou_span_a = df['senkou_span_a'].values[index:]\n",
    "senkou_span_b = df['senkou_span_b'].values[index:]\n",
    "band_y = np.append(senkou_span_a, senkou_span_b[::-1])\n",
    "band_x = np.append(dates, dates[::-1])\n",
    "p.patch(band_x, band_y, color='#8EF3DA', fill_alpha = 0.20)\n",
    "\n",
    "#Display legend \n",
    "legend = Legend(items = [\n",
    "    (\"Tenkan-Sen\", [r1]),\n",
    "    (\"Kijun-Sen\", [r2]),\n",
    "    (\"Senkou Span A\", [r3]),\n",
    "    (\"Senkou Span B\", [r4]),\n",
    "    (\"Chikou Span\", [r5])\n",
    "], location = (0,399))\n",
    "p.add_layout(legend, 'right')\n",
    "\n",
    "#Adding button widgets \n",
    "button_3m = Button(label= \"3 month\")\n",
    "button_6m = Button(label = \"6 month\")\n",
    "button_1y = Button(label = \"1 Year\")\n",
    "button_ytd = Button(label = \"YTD\")\n",
    "button_all = Button(label = \"All\")\n",
    "\n",
    "def update_3m(): \n",
    "    '''Update zoom to 3 months'''\n",
    "    df_3m = df.iloc[-90:,]['Date']\n",
    "    p.x_range.start = df_3m.min()\n",
    "    p.x_range.end = df_3m.max()\n",
    "\n",
    "def update_6m():\n",
    "    '''Update zoom to 6 months'''\n",
    "    df_6m = df.iloc[-180:,]['Date']\n",
    "    p.x_range.start = df_6m.min()\n",
    "    p.x_range.end = df_6m.max()\n",
    "\n",
    "def update_1y():\n",
    "    '''Update zoom to 12 months'''\n",
    "    df_1y = df.iloc[-365:,]['Date']\n",
    "    p.x_range.start = df_1y.min()\n",
    "    p.x_range.end = df_1y.max() \n",
    "\n",
    "def update_ytd():\n",
    "    '''Update zoom to start of year'''\n",
    "    start_date = datetime.strptime(\"2017-1-01\", \"%Y-%m-%d\")\n",
    "    p.x_range.start = start_date\n",
    "    p.x_range.end = df['Date'].max() \n",
    "\n",
    "def update_all(): \n",
    "    '''Update zoom to display all data'''\n",
    "    p.x_range.start = df['Date'].min() \n",
    "    p.x_range.end = df['Date'].max() \n",
    "    \n",
    "button_3m.on_click(update_3m)\n",
    "button_6m.on_click(update_6m)\n",
    "button_1y.on_click(update_1y)\n",
    "button_ytd.on_click(update_ytd)\n",
    "button_all.on_click(update_all)\n",
    "\n",
    "#Add dropbox widget \n",
    "button_controls = widgetbox([button_3m, button_6m, button_1y, button_ytd, button_all], width = 100)\n",
    "\n",
    "#Set layout and show plot. Use curdoc to get widgets working \n",
    "output_file(\"candlestick.html\", title=\"candlestick.py\")\n",
    "layout = row(button_controls, p)\n",
    "#curdoc().add_root(layout)\n",
    "show(layout)"
   ]
  },
  {
   "cell_type": "code",
   "execution_count": 3,
   "metadata": {
    "collapsed": false
   },
   "outputs": [
    {
     "ename": "NameError",
     "evalue": "name 'df' is not defined",
     "output_type": "error",
     "traceback": [
      "\u001b[0;31m---------------------------------------------------------------------------\u001b[0m",
      "\u001b[0;31mNameError\u001b[0m                                 Traceback (most recent call last)",
      "\u001b[0;32m<ipython-input-3-38cea80b0838>\u001b[0m in \u001b[0;36m<module>\u001b[0;34m()\u001b[0m\n\u001b[1;32m      6\u001b[0m \u001b[1;33m\u001b[0m\u001b[0m\n\u001b[1;32m      7\u001b[0m \u001b[1;31m# add a line renderer with legend and line thickness\u001b[0m\u001b[1;33m\u001b[0m\u001b[1;33m\u001b[0m\u001b[0m\n\u001b[0;32m----> 8\u001b[0;31m \u001b[0mp\u001b[0m\u001b[1;33m.\u001b[0m\u001b[0mline\u001b[0m\u001b[1;33m(\u001b[0m\u001b[0mdf\u001b[0m\u001b[1;33m.\u001b[0m\u001b[0mindex\u001b[0m\u001b[1;33m,\u001b[0m \u001b[0mdf\u001b[0m\u001b[1;33m.\u001b[0m\u001b[0mHigh\u001b[0m\u001b[1;33m,\u001b[0m \u001b[0mlegend\u001b[0m\u001b[1;33m=\u001b[0m\u001b[1;34m\"Temp.\"\u001b[0m\u001b[1;33m,\u001b[0m \u001b[0mline_width\u001b[0m\u001b[1;33m=\u001b[0m\u001b[1;36m2\u001b[0m\u001b[1;33m)\u001b[0m\u001b[1;33m\u001b[0m\u001b[0m\n\u001b[0m\u001b[1;32m      9\u001b[0m \u001b[1;33m\u001b[0m\u001b[0m\n\u001b[1;32m     10\u001b[0m \u001b[1;31m# show the results\u001b[0m\u001b[1;33m\u001b[0m\u001b[1;33m\u001b[0m\u001b[0m\n",
      "\u001b[0;31mNameError\u001b[0m: name 'df' is not defined"
     ]
    }
   ],
   "source": [
    "# output to static HTML file\n",
    "output_file(\"lines.html\")\n",
    "\n",
    "# create a new plot with a title and axis labels\n",
    "p = figure(title=\"SMA of bitcoin\", x_axis_label='Date', y_axis_label='Price')\n",
    "\n",
    "# add a line renderer with legend and line thickness\n",
    "p.line(df.index, df.High, legend=\"Temp.\", line_width=2)\n",
    "\n",
    "# show the results\n",
    "show(p)"
   ]
  },
  {
   "cell_type": "code",
   "execution_count": null,
   "metadata": {
    "collapsed": true
   },
   "outputs": [],
   "source": []
  },
  {
   "cell_type": "code",
   "execution_count": null,
   "metadata": {
    "collapsed": true
   },
   "outputs": [],
   "source": []
  },
  {
   "cell_type": "code",
   "execution_count": null,
   "metadata": {
    "collapsed": true
   },
   "outputs": [],
   "source": []
  },
  {
   "cell_type": "code",
   "execution_count": null,
   "metadata": {
    "collapsed": true
   },
   "outputs": [],
   "source": []
  },
  {
   "cell_type": "code",
   "execution_count": null,
   "metadata": {
    "collapsed": true
   },
   "outputs": [],
   "source": []
  },
  {
   "cell_type": "code",
   "execution_count": 72,
   "metadata": {
    "collapsed": true
   },
   "outputs": [],
   "source": [
    "import plotly\n",
    "plotly.tools.set_credentials_file(username='chrishigh95', api_key='Mg0N9OIjeBB64gnsBP1Y')\n",
    "import plotly.plotly as py\n",
    "from plotly.graph_objs import *"
   ]
  },
  {
   "cell_type": "code",
   "execution_count": 10,
   "metadata": {
    "collapsed": false
   },
   "outputs": [
    {
     "data": {
      "text/html": [
       "<iframe id=\"igraph\" scrolling=\"no\" style=\"border:none;\" seamless=\"seamless\" src=\"https://plot.ly/~chrishigh95/5.embed\" height=\"525px\" width=\"100%\"></iframe>"
      ],
      "text/plain": [
       "<plotly.tools.PlotlyDisplay object>"
      ]
     },
     "execution_count": 10,
     "metadata": {},
     "output_type": "execute_result"
    }
   ],
   "source": [
    "data = [Bar(x=df.index,\n",
    "            y=sma_plot(df, 9))]\n",
    "\n",
    "py.iplot(data)"
   ]
  },
  {
   "cell_type": "code",
   "execution_count": 73,
   "metadata": {
    "collapsed": false
   },
   "outputs": [
    {
     "ename": "NameError",
     "evalue": "name 'go' is not defined",
     "output_type": "error",
     "traceback": [
      "\u001b[0;31m---------------------------------------------------------------------------\u001b[0m",
      "\u001b[0;31mNameError\u001b[0m                                 Traceback (most recent call last)",
      "\u001b[0;32m<ipython-input-73-0ed68e5f1c9e>\u001b[0m in \u001b[0;36m<module>\u001b[0;34m()\u001b[0m\n\u001b[1;32m      4\u001b[0m \u001b[1;33m\u001b[0m\u001b[0m\n\u001b[1;32m      5\u001b[0m \u001b[1;31m# Create a trace\u001b[0m\u001b[1;33m\u001b[0m\u001b[1;33m\u001b[0m\u001b[0m\n\u001b[0;32m----> 6\u001b[0;31m trace = go.Ohlc(\n\u001b[0m\u001b[1;32m      7\u001b[0m     \u001b[0mopen\u001b[0m \u001b[1;33m=\u001b[0m \u001b[0mdt\u001b[0m\u001b[1;33m[\u001b[0m\u001b[1;34m'Open'\u001b[0m\u001b[1;33m]\u001b[0m\u001b[1;33m,\u001b[0m\u001b[1;33m\u001b[0m\u001b[0m\n\u001b[1;32m      8\u001b[0m     \u001b[0mhigh\u001b[0m \u001b[1;33m=\u001b[0m \u001b[0mdt\u001b[0m\u001b[1;33m[\u001b[0m\u001b[1;34m'High'\u001b[0m\u001b[1;33m]\u001b[0m\u001b[1;33m,\u001b[0m\u001b[1;33m\u001b[0m\u001b[0m\n",
      "\u001b[0;31mNameError\u001b[0m: name 'go' is not defined"
     ]
    }
   ],
   "source": [
    "import numpy as np\n",
    "\n",
    "import plotly.plotly as py\n",
    "\n",
    "# Create a trace\n",
    "trace = go.Ohlc(\n",
    "    open = dt['Open'],\n",
    "    high = dt['High'],\n",
    "    low = dt['Low'],\n",
    "    close = dt['Close']\n",
    ")\n",
    "data = [trace]\n",
    "\n",
    "layout = dict(\n",
    "    title = \"BTC USD Cross\"\n",
    ")\n",
    "fig = dict(data=data, layout=layout)\n",
    "\n",
    "py.iplot(fig, filename='basic-line')"
   ]
  },
  {
   "cell_type": "code",
   "execution_count": 74,
   "metadata": {
    "collapsed": false
   },
   "outputs": [
    {
     "ename": "NameError",
     "evalue": "name 'go' is not defined",
     "output_type": "error",
     "traceback": [
      "\u001b[0;31m---------------------------------------------------------------------------\u001b[0m",
      "\u001b[0;31mNameError\u001b[0m                                 Traceback (most recent call last)",
      "\u001b[0;32m<ipython-input-74-bfea622cdf55>\u001b[0m in \u001b[0;36m<module>\u001b[0;34m()\u001b[0m\n\u001b[0;32m----> 1\u001b[0;31m boll_low = go.Scatter(\n\u001b[0m\u001b[1;32m      2\u001b[0m     \u001b[0mx\u001b[0m\u001b[1;33m=\u001b[0m\u001b[0mdt\u001b[0m\u001b[1;33m.\u001b[0m\u001b[0mindex\u001b[0m\u001b[1;33m,\u001b[0m\u001b[1;33m\u001b[0m\u001b[0m\n\u001b[1;32m      3\u001b[0m     \u001b[0my\u001b[0m\u001b[1;33m=\u001b[0m\u001b[0mdt\u001b[0m\u001b[1;33m[\u001b[0m\u001b[1;34m'Bollinger High'\u001b[0m\u001b[1;33m]\u001b[0m\u001b[1;33m,\u001b[0m\u001b[1;33m\u001b[0m\u001b[0m\n\u001b[1;32m      4\u001b[0m     \u001b[0mname\u001b[0m \u001b[1;33m=\u001b[0m \u001b[1;34m\"Bollinger High\"\u001b[0m\u001b[1;33m,\u001b[0m\u001b[1;33m\u001b[0m\u001b[0m\n\u001b[1;32m      5\u001b[0m     \u001b[0mline\u001b[0m \u001b[1;33m=\u001b[0m \u001b[0mdict\u001b[0m\u001b[1;33m(\u001b[0m\u001b[0mcolor\u001b[0m \u001b[1;33m=\u001b[0m \u001b[1;34m'#66c2ff'\u001b[0m\u001b[1;33m)\u001b[0m\u001b[1;33m,\u001b[0m\u001b[1;33m\u001b[0m\u001b[0m\n",
      "\u001b[0;31mNameError\u001b[0m: name 'go' is not defined"
     ]
    }
   ],
   "source": [
    "boll_low = go.Scatter(\n",
    "    x=dt.index,\n",
    "    y=dt['Bollinger High'],\n",
    "    name = \"Bollinger High\",\n",
    "    line = dict(color = '#66c2ff'),\n",
    "    opacity = 0.8)\n",
    "\n",
    "boll_high = go.Scatter(\n",
    "    x=dt.index,\n",
    "    y=dt['Bollinger Low'],\n",
    "    name = \"Bollinger Low\",\n",
    "    line = dict(color = '#99d6ff'),\n",
    "    opacity = 0.8)\n",
    "close = go.Scatter(\n",
    "    x=dt.index,\n",
    "    y=dt['Close'],\n",
    "    name = \"Close\",\n",
    "    line = dict(color = '#006bb3')\n",
    "\n",
    ")\n",
    "\n",
    "data1 = [boll_low, boll_high, close]\n",
    "layout1 = dict(\n",
    "    title='Bollinger bands',\n",
    "    xaxis=dict(\n",
    "        rangeselector=dict(\n",
    "            buttons=list([\n",
    "                dict(count=1,\n",
    "                     label='1m',\n",
    "                     step='month',\n",
    "                     stepmode='backward'),\n",
    "                dict(count=6,\n",
    "                     label='6m',\n",
    "                     step='month',\n",
    "                     stepmode='backward'),\n",
    "                dict(step='all')\n",
    "            ])\n",
    "        ),\n",
    "        rangeslider=dict(range=\"28/4/2013 - 22/11/2017\"),\n",
    "        type='date'\n",
    "    )\n",
    ")\n",
    "\n",
    "fig = dict(data=data1, layout=layout1)\n",
    "\n",
    "py.iplot(fig, filename='basic-line2')"
   ]
  },
  {
   "cell_type": "code",
   "execution_count": null,
   "metadata": {
    "collapsed": true
   },
   "outputs": [],
   "source": []
  },
  {
   "cell_type": "code",
   "execution_count": null,
   "metadata": {
    "collapsed": true
   },
   "outputs": [],
   "source": []
  }
 ],
 "metadata": {
  "kernelspec": {
   "display_name": "Python 3",
   "language": "python",
   "name": "python3"
  },
  "language_info": {
   "codemirror_mode": {
    "name": "ipython",
    "version": 3
   },
   "file_extension": ".py",
   "mimetype": "text/x-python",
   "name": "python",
   "nbconvert_exporter": "python",
   "pygments_lexer": "ipython3",
   "version": "3.6.0"
  }
 },
 "nbformat": 4,
 "nbformat_minor": 2
}
