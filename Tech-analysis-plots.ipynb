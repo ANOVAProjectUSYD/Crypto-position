{
 "cells": [
  {
   "cell_type": "code",
   "execution_count": 124,
   "metadata": {
    "collapsed": true
   },
   "outputs": [],
   "source": [
    "import numpy as np\n",
    "import matplotlib.pyplot as plt\n",
    "import pandas as pd\n",
    "import seaborn as sns\n",
    "from datetime import datetime\n",
    "from scipy import stats"
   ]
  },
  {
   "cell_type": "code",
   "execution_count": 125,
   "metadata": {
    "collapsed": true
   },
   "outputs": [],
   "source": [
    "def ichimoku_plot(df):\n",
    "    '''Computes the Ichimoku Kinkō Hyō trend identification system.'''\n",
    "    # This plot has 5 components to it. \n",
    "    high_prices = df['High']\n",
    "    close_prices = df['Close']\n",
    "    low_prices = df['Low']\n",
    "    dates = df.index\n",
    "    \n",
    "    # Ichimoku (Conversion Line): (9-period high + 9-period low)/2\n",
    "    nine_period_high = df['High'].rolling(window=9, center=False).max() # Usually window is 9 days.\n",
    "    nine_period_low = df['Low'].rolling(window=9, center=False).max() \n",
    "    ichimoku = (nine_period_high + nine_period_low) /2\n",
    "    df['tenkan_sen'] = ichimoku\n",
    "    \n",
    "    # Kijun-Sen (Base line): (26-period high + 26-period low)/2)\n",
    "    period26_high = high_prices.rolling(window=26, center=False).max() # Window normally 26 days.\n",
    "    period26_low = low_prices.rolling(window=26, center=False).min()\n",
    "    df['kijun_sen'] = (period26_high + period26_low) / 2\n",
    "    \n",
    "    # Senkou Span A (Leading span A): (Base line + Conversion line) / 2\n",
    "    df['senkou_span_a'] = ((df['tenkan_sen'] + df['kijun_sen']) / 2).shift(26) \n",
    "\n",
    "    # Senkou Span B (Leading span B): (52-period high + 52-period low)/2\n",
    "    period52_high = high_prices.rolling(window=52, center=False).max()\n",
    "    period52_low = low_prices.rolling(window=52, center=False).min()\n",
    "    df['senkou_span_b'] = ((period52_high + period52_low) / 2).shift(26)\n",
    "    \n",
    "    # Chikou Span (Lagging span): Closing price of last 22 periods.\n",
    "    df['chikou_span'] = close_prices.shift(-22)\n",
    "    \n",
    "    return df[df.columns[6:]]"
   ]
  },
  {
   "cell_type": "code",
   "execution_count": 126,
   "metadata": {
    "collapsed": true
   },
   "outputs": [],
   "source": [
    "def reverse_date(df, remove_date=\"Yes\", ich_plot=\"Yes\"):\n",
    "    '''Reverses the dataset so it is in chronological order. Optional to remove date column and set as index.'''\n",
    "    final_data = df.reindex(index=df.index[::-1])\n",
    "    \n",
    "    # Fixing incorrect dates.\n",
    "    for i in range(0, len(df)): \n",
    "        if \"v\" in df.ix[i,'Date']:\n",
    "            new_date = df.ix[i,'Date'].replace('v', '/')\n",
    "            final_data.ix[i,'Date'] = new_date\n",
    "            \n",
    "    if remove_date == \"Yes\":\n",
    "        # Need to reverse order of dataframe.\n",
    "        final_data = final_data.set_index(final_data['Date'])\n",
    "        del final_data['Date']\n",
    "    \n",
    "    # Convert dates to datetime format.\n",
    "    final_data['Date'] = pd.to_datetime(final_data['Date'], dayfirst = True) \n",
    "    \n",
    "    if ich_plot == \"Yes\":\n",
    "        ichimoku_plot(final_data) # Append ichimoku columns.\n",
    "    \n",
    "    return final_data"
   ]
  },
  {
   "cell_type": "code",
   "execution_count": 127,
   "metadata": {
    "collapsed": true
   },
   "outputs": [],
   "source": [
    "def compute_metrics(name, data, rf, mar, market):\n",
    "    '''Computes 4 metrics of the Cryptocurrency and returns Pandas dataframe.'''\n",
    "    metrics = []\n",
    "    \n",
    "    metrics.append(calc_sharpe(data, rf))\n",
    "    metrics.append(calc_sortino(data, rf, mar))\n",
    "    metrics.append(calc_treynor(data, market))\n",
    "    metrics.append(calc_info(data, market))\n",
    "    \n",
    "    # Formats everything into a Pandas Dataframe to return.\n",
    "    metric_names = [\"Sharpe Ratio\", \"Sortino\", \"Treynor\", \"Info Ratio\"]\n",
    "    results = pd.DataFrame(data = metrics)\n",
    "    results.columns = metric_names\n",
    "    results.set_index(name)\n",
    "    \n",
    "    return results"
   ]
  },
  {
   "cell_type": "code",
   "execution_count": 128,
   "metadata": {
    "collapsed": true
   },
   "outputs": [],
   "source": [
    "def scale_volume(dataframe, scale_factor): \n",
    "    '''Append a column of volumes scaled down by specified factor'''\n",
    "    dataframe['Scaled Volume'] = dataframe['Volume']/scale_factor\n",
    "    return dataframe "
   ]
  },
  {
   "cell_type": "code",
   "execution_count": 129,
   "metadata": {
    "collapsed": true
   },
   "outputs": [],
   "source": [
    "def sma_plot(df, window):\n",
    "    '''Computes simple moving average.'''\n",
    "    rolling = df['Close'].rolling(window=window) # Window tells us how many days average to take.\n",
    "    return rolling.mean()"
   ]
  },
  {
   "cell_type": "code",
   "execution_count": 130,
   "metadata": {
    "collapsed": true
   },
   "outputs": [],
   "source": [
    "def bollinger_plot(df, window, num_sd):\n",
    "    '''Computes Bollinger bands depending on number of standard deviation and window.''' \n",
    "    rolling_mean = df['Close'].rolling(window).mean() # Window should be same as SMA.\n",
    "    rolling_std = df['Close'].rolling(window).std()\n",
    "    \n",
    "    bollinger = pd.DataFrame(data=None)\n",
    "    bollinger['Rolling Mean'] = rolling_mean\n",
    "    bollinger['Bollinger High'] = rolling_mean + (rolling_std * num_sd)\n",
    "    bollinger['Bollinger Low'] = rolling_mean - (rolling_std * num_sd)\n",
    "\n",
    "    return bollinger"
   ]
  },
  {
   "cell_type": "code",
   "execution_count": 131,
   "metadata": {
    "collapsed": false
   },
   "outputs": [],
   "source": [
    "import warnings\n",
    "warnings.filterwarnings('ignore') # Warnings were getting annoying.\n",
    "\n",
    "# Reading data \n",
    "btc = pd.read_csv('https://raw.githubusercontent.com/chrishyland/Crypto-position/master/bitcoin_final.csv')\n",
    "df = reverse_date(btc, \"No\")\n",
    "df = scale_volume(df, 3000000)\n",
    "\n",
    "ripple = pd.read_csv('https://raw.githubusercontent.com/chrishyland/Crypto-position/master/ripple_final.csv')\n",
    "df_rip = reverse_date(ripple, \"No\")\n",
    "df_rip = scale_volume(df_rip, 10000000000)\n",
    "\n",
    "ethereum = pd.read_csv('https://raw.githubusercontent.com/chrishyland/Crypto-position/master/ethereum_final.csv')\n",
    "df_eth = reverse_date(ethereum, \"No\")\n",
    "df_eth = scale_volume(df_eth, 30000000)\n",
    "\n",
    "# For market index.\n",
    "df_market = pd.read_csv('https://raw.githubusercontent.com/chrishyland/Crypto-position/master/crix.csv')\n",
    "df_market.columns = ['Date', 'Close'] # Rename column.\n",
    "df_market.reindex(index=df_market.index[::-1])\n",
    "df_market['Date'] = pd.to_datetime(df_market['Date'], dayfirst = True) "
   ]
  },
  {
   "cell_type": "code",
   "execution_count": 132,
   "metadata": {
    "collapsed": true
   },
   "outputs": [],
   "source": [
    "from bokeh.events import ButtonClick\n",
    "from bokeh.layouts import column, row, widgetbox, Spacer\n",
    "from bokeh.models.widgets import Button, Select, CheckboxButtonGroup\n",
    "from bokeh.plotting import figure, output_file, show, ColumnDataSource, curdoc\n",
    "from bokeh.models import HoverTool, CustomJS, Legend\n",
    "from bokeh.models.widgets import DataTable, DateFormatter, TableColumn\n",
    "from bokeh.io import output_file, show\n",
    "from math import pi "
   ]
  },
  {
   "cell_type": "code",
   "execution_count": 133,
   "metadata": {
    "collapsed": false
   },
   "outputs": [
    {
     "data": {
      "text/plain": [
       "'legend = Legend(items = [\\n    (\"Tenkan-Sen\", [r1]),\\n    (\"Kijun-Sen\", [r2]),\\n    (\"Senkou Span A\", [r3]),\\n    (\"Senkou Span B\", [r4]),\\n    (\"Chikou Span\", [r5])\\n], location = (0,399))\\ntop_plot.add_layout(legend, \\'right\\')'"
      ]
     },
     "execution_count": 133,
     "metadata": {},
     "output_type": "execute_result"
    }
   ],
   "source": [
    "'''Constructing top candlestick chart with ichimoku plot.'''\n",
    "inc = df.Close > df.Open\n",
    "dec = df.Open > df.Close\n",
    "sourceInc_top = ColumnDataSource(ColumnDataSource.from_df(df.loc[inc]))\n",
    "sourceDec_top = ColumnDataSource(ColumnDataSource.from_df(df.loc[dec]))\n",
    "source_top = ColumnDataSource(data = df)\n",
    "\n",
    "inc1 = df_rip.Close > df_rip.Open\n",
    "dec1 = df_rip.Open > df_rip.Close\n",
    "sourceInc_bottom = ColumnDataSource(ColumnDataSource.from_df(df_rip.loc[inc1]))\n",
    "sourceDec_bottom = ColumnDataSource(ColumnDataSource.from_df(df_rip.loc[dec1]))\n",
    "source_bottom = ColumnDataSource(data = df_rip)\n",
    "\n",
    "def make_plot(sourceInc, sourceDec, source, df):\n",
    "    '''Construct top and bottom candle + ichimoku plot'''\n",
    "    w = 12*60*60*1000 # Half day in ms.\n",
    "\n",
    "    # Display last 6 months by default.\n",
    "    df_6m = df.iloc[-180:,]['Date']\n",
    "\n",
    "    TOOLS = \"pan, wheel_zoom, xbox_select, reset, save\"\n",
    "    p = figure(x_axis_type = \"datetime\", tools = TOOLS,\n",
    "               plot_width = 1000, plot_height = 400, x_range = (df_6m.min(), df_6m.max()), active_drag = \"xbox_select\") \n",
    "    p.xaxis.major_label_orientation = pi/4\n",
    "    p.grid.grid_line_alpha = 0.30 \n",
    "\n",
    "    # Construct increasing and decreasing lines.\n",
    "    seg1 = p.segment('Date', 'High', 'Date', 'Low', color='#17BECF', source = sourceInc)\n",
    "    seg2 = p.segment('Date', 'High', 'Date', 'Low', color='#FF7777', source = sourceDec)\n",
    "\n",
    "    # Construct increasing and decreasing bars. \n",
    "    bar1 = p.vbar('Date', w, 'Open', 'Close', fill_color='#17BECF', line_color='#17BECF', source = sourceInc)\n",
    "    bar2 = p.vbar('Date', w, 'Open', 'Close', fill_color='#FF7777', line_color='#FF7777', source = sourceDec)\n",
    "\n",
    "    #Adding hover tool feature.\n",
    "    hover = HoverTool(\n",
    "        renderers = [seg1, seg2, bar1, bar2],\n",
    "        tooltips = [\n",
    "           ('Date', '@Date{%F}'),\n",
    "           ('Open', '$@Open{%0.2f}'),\n",
    "           ('High', '$@High{%0.2f}'),\n",
    "           ('Low', '$@Low{%0.2f}'),\n",
    "           ('Close', '$@Close{%0.2f}'),\n",
    "           ('Volume', '@Volume{0.00 a}'),\n",
    "        ],\n",
    "        formatters = {\n",
    "            'Date' : 'datetime',\n",
    "            'Open' : 'printf',\n",
    "            'High' : 'printf',\n",
    "            'Low' : 'printf',\n",
    "            'Close': 'printf',\n",
    "        },\n",
    "        mode = 'vline'\n",
    "    )\n",
    "    p.add_tools(hover)\n",
    "\n",
    "    # Add line render to display ichimoku plot.\n",
    "    r1 = p.line('Date', 'tenkan_sen', line_width = 1, color = '#92FFB4', source = source)\n",
    "    r2 = p.line('Date', 'kijun_sen', line_width = 1, color = '#92B2FF', source = source)\n",
    "    r3 = p.line('Date', 'senkou_span_a', line_width = 1, color = '#98D4FD', source = source)\n",
    "    r4 = p.line('Date', 'senkou_span_b', line_width = 1, color = '#F7B0B6', source = source)\n",
    "    r5 = p.line('Date', 'chikou_span', line_width = 1, color = '#6878FB', source = source)\n",
    "\n",
    "    # Add bar render to display scaled down volume. TODO: make generalised scale for all currencies. \n",
    "    r6 = p.vbar('Date', w, 'Scaled Volume', 0, color='#5DE0F6', source = source)\n",
    "    \n",
    "    renders = [r1, r2, r3, r4, r5, r6]\n",
    "    return p, renders\n",
    "\n",
    "def fill_area(p, df):  \n",
    "    '''Fill area between senkou span A and B.'''\n",
    "    index = 0\n",
    "    index_a = np.argwhere(np.isnan(df['senkou_span_a'].values)).max()\n",
    "    index_b = np.argwhere(np.isnan(df['senkou_span_b'].values)).max()\n",
    "    if index_b > index_a: \n",
    "        index = index_b + 1\n",
    "    else:\n",
    "        index = index_a + 1\n",
    "    dates = df['Date'].values[index:]\n",
    "    senkou_span_a = df['senkou_span_a'].values[index:]\n",
    "    senkou_span_b = df['senkou_span_b'].values[index:]\n",
    "    \n",
    "    color = '#98D4FD' #set colour to initially blue.\n",
    "    if senkou_span_a[index] < senkou_span_b[index]: \n",
    "        color = '#F7B0B6' #change colour to red. \n",
    "        \n",
    "    xs_blue, ys_blue, xs_red, ys_red = [], [], [], [] \n",
    "    \n",
    "    for i in range(0, len(senkou_span_a)): \n",
    "        if color == '#98D4FD' and senkou_span_b[i] > senkou_span_a[i] or i == len(senkou_span_a) - 1: \n",
    "            line_a  = senkou_span_a[index:i+1]\n",
    "            line_b = senkou_span_b[index:i+1]\n",
    "            line_date = dates[index:i+1]\n",
    "            index = i \n",
    "            color = '#F7B0B6' #need to change colour to red. \n",
    "            xs_blue.append(np.append(line_date, line_date[::-1]))\n",
    "            ys_blue.append(np.append(line_a, line_b[::-1]))\n",
    "        elif color == '#F7B0B6' and senkou_span_a[i] >= senkou_span_b[i] or i == len(senkou_span_a) - 1: \n",
    "            line_a  = senkou_span_a[index:i+1]\n",
    "            line_b = senkou_span_b[index:i+1]\n",
    "            line_date = dates[index:i+1]\n",
    "            index = i \n",
    "            color = '#98D4FD' #need to change colour to blue. \n",
    "            xs_red.append(np.append(line_date, line_date[::-1]))\n",
    "            ys_red.append(np.append(line_a, line_b[::-1]))\n",
    "  \n",
    "    patch_renders = []\n",
    "    patch_renders.append(p.patches(xs_blue, ys_blue, color='#98D4FD', line_color = '#98D4FD', fill_alpha = 0.20))\n",
    "    patch_renders.append(p.patches(xs_red, ys_red, color='#F7B0B6', line_color = '#F7B0B6', fill_alpha = 0.20))\n",
    "    \n",
    "    return patch_renders\n",
    "\n",
    "\n",
    "top_plot, top_renders = make_plot(sourceInc_top, sourceDec_top, source_top, df)\n",
    "r7 = fill_area(top_plot, df)\n",
    "top_plot.title.text = 'Bitcoin Chart'\n",
    "\n",
    "bottom_plot, bottom_renders = make_plot(sourceInc_bottom, sourceDec_bottom, source_bottom, df_rip)\n",
    "r8 = fill_area(bottom_plot, df_rip)\n",
    "bottom_plot.title.text = 'Ripple Chart'\n",
    "\n",
    "#Display legend. TODO: adjust legend to make visible \n",
    "'''legend = Legend(items = [\n",
    "    (\"Tenkan-Sen\", [r1]),\n",
    "    (\"Kijun-Sen\", [r2]),\n",
    "    (\"Senkou Span A\", [r3]),\n",
    "    (\"Senkou Span B\", [r4]),\n",
    "    (\"Chikou Span\", [r5])\n",
    "], location = (0,399))\n",
    "top_plot.add_layout(legend, 'right')'''"
   ]
  },
  {
   "cell_type": "code",
   "execution_count": 152,
   "metadata": {
    "collapsed": true
   },
   "outputs": [],
   "source": [
    "def calc_returns(df_x, df_y): \n",
    "    '''Returns data frame consisting of returns for 2 currencies.'''\n",
    "    start_date = df_x['Date'].min()\n",
    "    end_date = df_x['Date'].max()\n",
    "    \n",
    "    if df_y['Date'].min() > df_x['Date'].min(): # Dataset Y starts later so we start there. \n",
    "        start_date = df_y['Date'].min()\n",
    "    \n",
    "    if df_y['Date'].max() < df_x['Date'].max(): # Dataset Y ends earlier so we end there. \n",
    "        end_date = df_y['Date'].max()\n",
    "\n",
    "    d = {'x': [], 'y': []} \n",
    "    for i in range(0, len(df_x)-1): \n",
    "        if df_x.ix[i, 'Date'] > start_date and df_x.ix[i, 'Date'] < end_date: \n",
    "            ret = (df_x.ix[i,'Close'] - df_x.ix[i+1, 'Close'])/df_x.ix[i+1, 'Close']\n",
    "            d['x'].append(ret)\n",
    "\n",
    "    for i in range(0, len(df_y)-1): \n",
    "        if df_y.ix[i, 'Date'] > start_date and df_y.ix[i, 'Date'] < end_date:\n",
    "            ret = (df_y.ix[i,'Close'] - df_y.ix[i+1, 'Close'])/df_y.ix[i+1, 'Close']\n",
    "            d['y'].append(ret)\n",
    "\n",
    "    df_returns = pd.DataFrame(data = d)\n",
    "    return df_returns"
   ]
  },
  {
   "cell_type": "code",
   "execution_count": 200,
   "metadata": {
    "collapsed": false
   },
   "outputs": [
    {
     "data": {
      "text/html": [
       "<div style=\"display: table;\"><div style=\"display: table-row;\"><div style=\"display: table-cell;\"><b title=\"bokeh.models.renderers.GlyphRenderer\">GlyphRenderer</b>(</div><div style=\"display: table-cell;\">id&nbsp;=&nbsp;'741b0feb-e33a-4d76-95a1-8590e6794120', <span id=\"ca734088-c862-423b-a99e-45c381ac92bc\" style=\"cursor: pointer;\">&hellip;)</span></div></div><div class=\"1825716c-2fed-45ce-ac08-cd71abcdf97d\" style=\"display: none;\"><div style=\"display: table-cell;\"></div><div style=\"display: table-cell;\">data_source&nbsp;=&nbsp;ColumnDataSource(id='ab41aa54-169d-4a09-a5dd-c53768289fb0', ...),</div></div><div class=\"1825716c-2fed-45ce-ac08-cd71abcdf97d\" style=\"display: none;\"><div style=\"display: table-cell;\"></div><div style=\"display: table-cell;\">glyph&nbsp;=&nbsp;Circle(id='ac3ed73a-211b-4a9c-a882-cd9358c19967', ...),</div></div><div class=\"1825716c-2fed-45ce-ac08-cd71abcdf97d\" style=\"display: none;\"><div style=\"display: table-cell;\"></div><div style=\"display: table-cell;\">hover_glyph&nbsp;=&nbsp;None,</div></div><div class=\"1825716c-2fed-45ce-ac08-cd71abcdf97d\" style=\"display: none;\"><div style=\"display: table-cell;\"></div><div style=\"display: table-cell;\">js_event_callbacks&nbsp;=&nbsp;{},</div></div><div class=\"1825716c-2fed-45ce-ac08-cd71abcdf97d\" style=\"display: none;\"><div style=\"display: table-cell;\"></div><div style=\"display: table-cell;\">js_property_callbacks&nbsp;=&nbsp;{},</div></div><div class=\"1825716c-2fed-45ce-ac08-cd71abcdf97d\" style=\"display: none;\"><div style=\"display: table-cell;\"></div><div style=\"display: table-cell;\">level&nbsp;=&nbsp;'glyph',</div></div><div class=\"1825716c-2fed-45ce-ac08-cd71abcdf97d\" style=\"display: none;\"><div style=\"display: table-cell;\"></div><div style=\"display: table-cell;\">muted&nbsp;=&nbsp;False,</div></div><div class=\"1825716c-2fed-45ce-ac08-cd71abcdf97d\" style=\"display: none;\"><div style=\"display: table-cell;\"></div><div style=\"display: table-cell;\">muted_glyph&nbsp;=&nbsp;None,</div></div><div class=\"1825716c-2fed-45ce-ac08-cd71abcdf97d\" style=\"display: none;\"><div style=\"display: table-cell;\"></div><div style=\"display: table-cell;\">name&nbsp;=&nbsp;None,</div></div><div class=\"1825716c-2fed-45ce-ac08-cd71abcdf97d\" style=\"display: none;\"><div style=\"display: table-cell;\"></div><div style=\"display: table-cell;\">nonselection_glyph&nbsp;=&nbsp;Circle(id='2f830b7f-f819-4f65-be5f-1ce196df99ef', ...),</div></div><div class=\"1825716c-2fed-45ce-ac08-cd71abcdf97d\" style=\"display: none;\"><div style=\"display: table-cell;\"></div><div style=\"display: table-cell;\">selection_glyph&nbsp;=&nbsp;Circle(id='afd9cfdd-98fd-44ff-8116-e247a0c1f5f0', ...),</div></div><div class=\"1825716c-2fed-45ce-ac08-cd71abcdf97d\" style=\"display: none;\"><div style=\"display: table-cell;\"></div><div style=\"display: table-cell;\">subscribed_events&nbsp;=&nbsp;[],</div></div><div class=\"1825716c-2fed-45ce-ac08-cd71abcdf97d\" style=\"display: none;\"><div style=\"display: table-cell;\"></div><div style=\"display: table-cell;\">tags&nbsp;=&nbsp;[],</div></div><div class=\"1825716c-2fed-45ce-ac08-cd71abcdf97d\" style=\"display: none;\"><div style=\"display: table-cell;\"></div><div style=\"display: table-cell;\">view&nbsp;=&nbsp;CDSView(id='d894d547-10c6-43f7-aa39-e1f1ed2b5027', ...),</div></div><div class=\"1825716c-2fed-45ce-ac08-cd71abcdf97d\" style=\"display: none;\"><div style=\"display: table-cell;\"></div><div style=\"display: table-cell;\">visible&nbsp;=&nbsp;True,</div></div><div class=\"1825716c-2fed-45ce-ac08-cd71abcdf97d\" style=\"display: none;\"><div style=\"display: table-cell;\"></div><div style=\"display: table-cell;\">x_range_name&nbsp;=&nbsp;'default',</div></div><div class=\"1825716c-2fed-45ce-ac08-cd71abcdf97d\" style=\"display: none;\"><div style=\"display: table-cell;\"></div><div style=\"display: table-cell;\">y_range_name&nbsp;=&nbsp;'default')</div></div></div>\n",
       "<script>\n",
       "(function() {\n",
       "  var expanded = false;\n",
       "  var ellipsis = document.getElementById(\"ca734088-c862-423b-a99e-45c381ac92bc\");\n",
       "  ellipsis.addEventListener(\"click\", function() {\n",
       "    var rows = document.getElementsByClassName(\"1825716c-2fed-45ce-ac08-cd71abcdf97d\");\n",
       "    for (var i = 0; i < rows.length; i++) {\n",
       "      var el = rows[i];\n",
       "      el.style.display = expanded ? \"none\" : \"table-row\";\n",
       "    }\n",
       "    ellipsis.innerHTML = expanded ? \"&hellip;)\" : \"&lsaquo;&lsaquo;&lsaquo;\";\n",
       "    expanded = !expanded;\n",
       "  });\n",
       "})();\n",
       "</script>\n"
      ],
      "text/plain": [
       "GlyphRenderer(id='741b0feb-e33a-4d76-95a1-8590e6794120', ...)"
      ]
     },
     "execution_count": 200,
     "metadata": {},
     "output_type": "execute_result"
    }
   ],
   "source": [
    "'''Construct scatter correlation plot with market index.'''\n",
    "df_y = df #Bitcoin as dependent variable.\n",
    "df_x = df_market #Crix as independent variable.\n",
    "\n",
    "df_returns_2 = calc_returns(df_x, df_y)\n",
    "sourceCorr = ColumnDataSource(data = df_returns_2)\n",
    "corr_plot = figure(plot_width=400, plot_height=350,\n",
    "             tools='pan,wheel_zoom,box_select,reset', title = \"Bitcoin vs. Crix Returns\")\n",
    "corr_plot.circle('x', 'y', size=2, source=sourceCorr,\n",
    "            selection_color=\"orange\", alpha=0.6, nonselection_alpha=0.1, selection_alpha=0.4)"
   ]
  },
  {
   "cell_type": "code",
   "execution_count": 314,
   "metadata": {
    "collapsed": false
   },
   "outputs": [],
   "source": [
    "def calc_returns_for_metrics(df):\n",
    "    '''Calculate and return a list of returns.'''\n",
    "    returns = []\n",
    "    for i in range(0, len(df)-1):\n",
    "        # Computes daily returns\n",
    "        rp = (df.ix[i,'Close'] - df.ix[i+1, 'Close'])/df.ix[i+1, 'Close']\n",
    "        returns.append(tuple((df.ix[i, 'Date'], rp)))\n",
    "    #Sort returns by earliest to latest date.\n",
    "    returns = sorted(returns, key=lambda L: L[0])\n",
    "    return returns"
   ]
  },
  {
   "cell_type": "code",
   "execution_count": 332,
   "metadata": {
    "collapsed": true
   },
   "outputs": [],
   "source": [
    "def get_data_between_dates(returns, start_date, end_date):\n",
    "    '''Returns data between specified dates'''\n",
    "    returns = [x for x in returns if x[0] >= datetime.strptime(start_date, \"%Y-%m-%d\")\n",
    "               and x[0] <= datetime.strptime(end_date, \"%Y-%m-%d\")]\n",
    "    returns = [x[1] for x in returns]\n",
    "    return returns "
   ]
  },
  {
   "cell_type": "code",
   "execution_count": 333,
   "metadata": {
    "collapsed": true
   },
   "outputs": [],
   "source": [
    "def calc_sharpe(df, rf, start_date, end_date):\n",
    "    '''Calculate the annualised Sharpe Ratio using a risk free rate between a specified date range'''\n",
    "    returns = calc_returns_for_metrics(df)\n",
    "    returns = get_data_between_dates(returns, start_date, end_date)\n",
    "    rp_mean = np.mean(returns)\n",
    "    rp_sd = np.std(returns)\n",
    "    return ((rp_mean-rf)/rp_sd) * (365/np.sqrt(365))"
   ]
  },
  {
   "cell_type": "code",
   "execution_count": 334,
   "metadata": {
    "collapsed": true
   },
   "outputs": [],
   "source": [
    "def calc_sortino(df, rf, mar, start_date, end_date):\n",
    "    '''Calculates the annualised Sortino ratio by using standard deviation of negative returns between a specified date range.'''\n",
    "    rp = calc_returns_for_metrics(df)\n",
    "    rp = get_data_between_dates(rp, start_date, end_date)\n",
    "    neg_rp = [x for x in rp if x < mar]\n",
    "    return ((np.mean(rp)) - rf)/np.std(neg_rp) * (365/np.sqrt(365))"
   ]
  },
  {
   "cell_type": "code",
   "execution_count": 335,
   "metadata": {
    "collapsed": true
   },
   "outputs": [],
   "source": [
    "def calc_treynor(df, market, rf, start_date, end_date):\n",
    "    '''Calculates the Treynor Ratio between a specified date range.'''\n",
    "    rp = calc_returns_for_metrics(df)\n",
    "    rb = calc_returns_for_metrics(market)\n",
    "    rp = get_data_between_dates(rp, start_date, end_date)\n",
    "    rb = get_data_between_dates(rb, start_date, end_date)\n",
    "    beta = np.cov(rp, rb, ddof = 1)[0][1]/np.var(rb, ddof = 1)\n",
    "    return ((np.mean(rp) - rf)/beta) "
   ]
  },
  {
   "cell_type": "code",
   "execution_count": 336,
   "metadata": {
    "collapsed": true
   },
   "outputs": [],
   "source": [
    "def calc_infoRatio(df, market, start_date, end_date):\n",
    "    '''Calculates the Information Ratio between a specified date range.'''\n",
    "    y = calc_returns_for_metrics(df)\n",
    "    x = calc_returns_for_metrics(market)\n",
    "    \n",
    "    y = get_data_between_dates(y, start_date, end_date)\n",
    "    x = get_data_between_dates(x, start_date, end_date)\n",
    "    \n",
    "    coef = np.polyfit(x, y, 1)\n",
    "    beta = coef[0]\n",
    "    alpha = coef[1]\n",
    "    residuals = []\n",
    "    for i in range(0, len(x)):\n",
    "        predicted = alpha + beta*x[i]\n",
    "        residuals = np.append(residuals, y[i] - predicted)\n",
    "\n",
    "    return (alpha/np.std(residuals)) "
   ]
  },
  {
   "cell_type": "code",
   "execution_count": 339,
   "metadata": {
    "collapsed": true
   },
   "outputs": [],
   "source": [
    "def compute_regression(df):\n",
    "    '''Computes the multiple metrics from regression of 2 datasets.'''\n",
    "    df_x = df['x']\n",
    "    df_y = df['y']\n",
    "    beta, alpha, r_value, p_value, std_err = stats.linregress(df_x, df_y)\n",
    "    r2 = r_value**2 # R-squared.\n",
    "    metrics = [beta, alpha, r_value, r2, p_value, std_err]\n",
    "    final_metrics = np.around(metrics, decimals=5) # To get 2 DP.\n",
    "    return final_metrics"
   ]
  },
  {
   "cell_type": "code",
   "execution_count": 359,
   "metadata": {
    "collapsed": false
   },
   "outputs": [],
   "source": [
    "'''Creates data-table of correlation.'''\n",
    "metrics = compute_regression(df_returns_2)\n",
    "START_DATE = '2016-11-22'\n",
    "END_DATE = '2017-11-22'\n",
    "\n",
    "#Calculate sharpe, sortino, treynor and info ratios.\n",
    "sharpe = np.around(calc_sharpe(df_y,  0, START_DATE, END_DATE), decimals = 5)\n",
    "sortino = np.around(calc_sortino(df_y, 0, 0, START_DATE, END_DATE), decimals = 5)\n",
    "treynor = np.around(calc_treynor(df_y, df_x, 0, START_DATE, END_DATE), decimals = 5)\n",
    "info = np.around(calc_infoRatio(df_y, df_x, START_DATE, END_DATE), decimals = 5)\n",
    "\n",
    "reg_data = dict(metrics=[\"Beta\", \"P-value of Beta\", \"Alpha\", \"Correlation\", \"R-squared\", \"Sharpe\", \"Sortino\", \"Treynor\", \"Info\"],\n",
    "                values=[metrics[0], metrics[4], metrics[1], metrics[2], metrics[3], sharpe, sortino, treynor, info],\n",
    "            )\n",
    "reg_source = ColumnDataSource(reg_data)\n",
    "columns_table = [\n",
    "        TableColumn(field=\"metrics\", title=\"Metrics\"),\n",
    "        TableColumn(field=\"values\", title=\"Values\"),\n",
    "    ]\n",
    "data_table = DataTable(source=reg_source, columns=columns_table, width=400, height=280, row_headers = False)"
   ]
  },
  {
   "cell_type": "code",
   "execution_count": 360,
   "metadata": {
    "collapsed": true
   },
   "outputs": [],
   "source": [
    "#Adding button widgets\n",
    "button_3m = Button(label= \"3 month\", width = 80)\n",
    "button_6m = Button(label = \"6 month\", width = 80)\n",
    "button_1y = Button(label = \"1 Year\", width = 80)\n",
    "button_ytd = Button(label = \"YTD\", width = 80)\n",
    "button_all = Button(label = \"All\", width = 80)\n",
    "\n",
    "def update_3m(): \n",
    "    '''Update zoom to 3 months'''\n",
    "    df_3m = df.iloc[-90:,]['Date']\n",
    "    top_plot.x_range.start = df_3m.min()\n",
    "    top_plot.x_range.end = df_3m.max()\n",
    "    bottom_plot.x_range.start = df_3m.min()\n",
    "    bottom_plot.x_range.end = df_3m.max()\n",
    "\n",
    "def update_6m():\n",
    "    '''Update zoom to 6 months'''\n",
    "    df_6m = df.iloc[-180:,]['Date']\n",
    "    top_plot.x_range.start = df_6m.min()\n",
    "    top_plot.x_range.end = df_6m.max()\n",
    "    bottom_plot.x_range.start = df_6m.min()\n",
    "    bottom_plot.x_range.end = df_6m.max()\n",
    "\n",
    "def update_1y():\n",
    "    '''Update zoom to 12 months'''\n",
    "    df_1y = df.iloc[-365:,]['Date']\n",
    "    top_plot.x_range.start = df_1y.min()\n",
    "    top_plot.x_range.end = df_1y.max()\n",
    "    bottom_plot.x_range.start = df_1y.min()\n",
    "    bottom_plot.x_range.end = df_1y.max()\n",
    "\n",
    "def update_ytd():\n",
    "    '''Update zoom to start of year'''\n",
    "    start_date = datetime.strptime(\"2017-1-01\", \"%Y-%m-%d\")\n",
    "    top_plot.x_range.start = start_date\n",
    "    top_plot.x_range.end = df['Date'].max()\n",
    "    bottom_plot.x_range.start = start_date\n",
    "    bottom_plot.x_range.end = df['Date'].max()\n",
    "\n",
    "def update_all(): \n",
    "    '''Update zoom to display all data'''\n",
    "    top_plot.x_range.start = df['Date'].min() \n",
    "    top_plot.x_range.end = df['Date'].max()\n",
    "    bottom_plot.x_range.start = df['Date'].min()\n",
    "    bottom_plot.x_range.end = df['Date'].max()\n",
    "    \n",
    "button_3m.on_click(update_3m)\n",
    "button_6m.on_click(update_6m)\n",
    "button_1y.on_click(update_1y)\n",
    "button_ytd.on_click(update_ytd)\n",
    "button_all.on_click(update_all)"
   ]
  },
  {
   "cell_type": "code",
   "execution_count": 361,
   "metadata": {
    "collapsed": false
   },
   "outputs": [],
   "source": [
    "#Adding checkbox button group widget \n",
    "checkbox_button_group = CheckboxButtonGroup(labels=['Ichimoku', 'Volume'], active=[0, 1])\n",
    "\n",
    "def update_renders(active):\n",
    "    '''Toggle ichimoku and volume renders to make visible.'''\n",
    "    #Make patches visible. \n",
    "    r7[0].visible = 0 in checkbox_button_group.active\n",
    "    r7[1].visible = 0 in checkbox_button_group.active\n",
    "    r8[0].visible = 0 in checkbox_button_group.active\n",
    "    r8[1].visible = 0 in checkbox_button_group.active\n",
    "    #Make ichimoku renders visible.\n",
    "    for i in range(0, len(top_renders) - 1): \n",
    "        top_renders[i].visible = 0 in checkbox_button_group.active\n",
    "        bottom_renders[i].visible = 0 in checkbox_button_group.active\n",
    "    #Make volume renders visible.\n",
    "    top_renders[-1].visible = 1 in checkbox_button_group.active\n",
    "    bottom_renders[-1].visible = 1 in checkbox_button_group.active\n",
    "    \n",
    "checkbox_button_group.on_click(update_renders)"
   ]
  },
  {
   "cell_type": "code",
   "execution_count": 366,
   "metadata": {
    "collapsed": false
   },
   "outputs": [],
   "source": [
    "# Create dropdown widgets. \n",
    "DEFAULT_TICKERS = ['Bitcoin', 'Ripple', 'Ethereum', 'Crix']\n",
    "\n",
    "def nix(val, lst):\n",
    "    '''Remove currently selected currency from dropdown list.'''\n",
    "    return [x for x in lst if x != val]\n",
    "\n",
    "dropdown_top = Select(value = \"Bitcoin\", options=nix('Crix', DEFAULT_TICKERS), title = 'Y variable:')\n",
    "dropdown_bottom = Select(value = \"Crix\", options=nix('Bitcoin', DEFAULT_TICKERS), title = 'X variable:')\n",
    "\n",
    "def update_metrics(df_x, df_y):\n",
    "    '''Update source for metrics table'''\n",
    "    # Update returns.\n",
    "    new_returns = calc_returns(df_x, df_y) \n",
    "    new_sourceCorr = new_returns \n",
    "    sourceCorr.data.update(new_sourceCorr)\n",
    "    \n",
    "    # Update correlation metrics.\n",
    "    new_reg_metrics = compute_regression(new_returns)\n",
    "    new_sharpe = np.around(calc_sharpe(df_y,  0, START_DATE, END_DATE), decimals = 5)\n",
    "    new_sortino = np.around(calc_sortino(df_y, 0, 0, START_DATE, END_DATE), decimals = 5)\n",
    "    new_treynor = np.around(calc_treynor(df_y, df_x, 0, START_DATE, END_DATE), decimals = 5)\n",
    "    new_info = np.around(calc_infoRatio(df_y, df_x, START_DATE, END_DATE), decimals = 5)\n",
    "    \n",
    "    new_reg_data = dict(metrics=[\"Beta\", \"P-value of Beta\", \"Alpha\", \"Correlation\", \n",
    "                                 \"R-squared\", \"Sharpe\", \"Sortino\", \"Treynor\", \"Info\"],\n",
    "                        values=[new_reg_metrics[0], new_reg_metrics[4], new_reg_metrics[1], \n",
    "                                new_reg_metrics[2], new_reg_metrics[3], new_sharpe, new_sortino, \n",
    "                                new_treynor, new_info],\n",
    "                        )\n",
    "    new_reg_sourceCorr = new_reg_data\n",
    "    reg_source.data.update(new_reg_sourceCorr) \n",
    "    \n",
    "    \n",
    "def update_top_source(df, market = False): \n",
    "    '''Update source for top plot and x data for correlation plot and tables.'''\n",
    "    global df_x, df_y, r7 \n",
    "\n",
    "    if market == False:  # Don't create ichimoku plots for CRIX data.\n",
    "        top_plot.renderers.remove(r7[0])\n",
    "        top_plot.renderers.remove(r7[1])\n",
    "        r7 = fill_area(top_plot, df)\n",
    "        \n",
    "        if 0 not in checkbox_button_group.active: \n",
    "            r7[0].visible = False\n",
    "            r7[1].visible = False \n",
    "            \n",
    "        inc = df.Close > df.Open\n",
    "        dec = df.Open > df.Close\n",
    "        newSourceInc = ColumnDataSource(ColumnDataSource.from_df(df.loc[inc]))\n",
    "        newSourceDec = ColumnDataSource(ColumnDataSource.from_df(df.loc[dec]))\n",
    "        newSource = ColumnDataSource(data = df)\n",
    "\n",
    "        sourceInc_top.data.update(newSourceInc.data)\n",
    "        sourceDec_top.data.update(newSourceDec.data)\n",
    "        source_top.data.update(newSource.data)\n",
    "        \n",
    "        top_plot.title.text = '%s Chart' % (dropdown_top.value)\n",
    "\n",
    "    df_y = df \n",
    "    update_metrics(df_x, df_y)\n",
    "    corr_plot.title.text = '%s vs. %s Returns' % (dropdown_top.value, dropdown_bottom.value)\n",
    "\n",
    "def update_bottom_source(df, market = False):\n",
    "    '''Update source for bottom plot and y data for correlation plot and table.'''\n",
    "    global df_x, df_y, r8\n",
    "\n",
    "    if market == False: #Don't create ichimoku plots for CRIX data.\n",
    "        bottom_plot.renderers.remove(r8[0])\n",
    "        bottom_plot.renderers.remove(r8[1])\n",
    "        r8 = fill_area(bottom_plot, df)\n",
    "        \n",
    "        if 0 not in checkbox_button_group.active: \n",
    "            r8[0].visible = False\n",
    "            r8[1].visible = False \n",
    "            \n",
    "        inc = df.Close > df.Open\n",
    "        dec = df.Open > df.Close\n",
    "        newSourceInc = ColumnDataSource(ColumnDataSource.from_df(df.loc[inc]))\n",
    "        newSourceDec = ColumnDataSource(ColumnDataSource.from_df(df.loc[dec]))\n",
    "        newSource = ColumnDataSource(data = df)\n",
    "\n",
    "        sourceInc_bottom.data.update(newSourceInc.data)\n",
    "        sourceDec_bottom.data.update(newSourceDec.data)\n",
    "        source_bottom.data.update(newSource.data)\n",
    "\n",
    "        bottom_plot.title.text = '%s Chart' % (dropdown_bottom.value)\n",
    "\n",
    "    df_x = df\n",
    "    update_metrics(df_x, df_y)\n",
    "    corr_plot.title.text = '%s vs. %s Returns' % (dropdown_top.value, dropdown_bottom.value)\n",
    "    \n",
    "def update_top_plot(attrname, old, new):\n",
    "    '''Update top plot to selected data set''' \n",
    "    dropdown_bottom.options = nix(new, DEFAULT_TICKERS)    \n",
    "    if dropdown_top.value == 'Crix':\n",
    "        update_top_source(df_market, True)\n",
    "    if dropdown_top.value == 'Ripple':\n",
    "        update_top_source(df_rip)\n",
    "    if dropdown_top.value == 'Bitcoin':\n",
    "        update_top_source(df)\n",
    "    if dropdown_top.value == 'Ethereum':\n",
    "        update_top_source(df_eth)\n",
    "\n",
    "def update_bottom_plot(attrname, old, new):\n",
    "    '''Update bottom plot to selected data set'''\n",
    "    dropdown_top.options = nix(new, DEFAULT_TICKERS)\n",
    "    if dropdown_bottom.value == 'Crix': \n",
    "        update_bottom_source(df_market, True)\n",
    "    if dropdown_bottom.value == 'Ripple':\n",
    "        update_bottom_source(df_rip)\n",
    "    if dropdown_bottom.value == 'Bitcoin':\n",
    "        update_bottom_source(df)\n",
    "    if dropdown_bottom.value == 'Ethereum':\n",
    "        update_bottom_source(df_eth)\n",
    "\n",
    "dropdown_top.on_change('value', update_top_plot)\n",
    "dropdown_bottom.on_change('value', update_bottom_plot)"
   ]
  },
  {
   "cell_type": "code",
   "execution_count": 365,
   "metadata": {
    "collapsed": false
   },
   "outputs": [],
   "source": [
    "#Format layout and display plot\n",
    "button_controls = row([button_3m, button_6m, button_1y, button_ytd, button_all, Spacer(width=50), checkbox_button_group])\n",
    "dropdown_and_tables = column(column(dropdown_top, dropdown_bottom), data_table)\n",
    "top_row = row(corr_plot, dropdown_and_tables)\n",
    "price_plots = column(column(button_controls, top_plot), bottom_plot)\n",
    "\n",
    "output_file(\"dashboard.html\", title=\"dashboard.py\")\n",
    "layout = column(top_row, price_plots)\n",
    "curdoc().add_root(layout)\n",
    "show(layout)"
   ]
  },
  {
   "cell_type": "code",
   "execution_count": null,
   "metadata": {
    "collapsed": true
   },
   "outputs": [],
   "source": []
  }
 ],
 "metadata": {
  "kernelspec": {
   "display_name": "Python 3",
   "language": "python",
   "name": "python3"
  },
  "language_info": {
   "codemirror_mode": {
    "name": "ipython",
    "version": 3
   },
   "file_extension": ".py",
   "mimetype": "text/x-python",
   "name": "python",
   "nbconvert_exporter": "python",
   "pygments_lexer": "ipython3",
   "version": "3.6.0"
  }
 },
 "nbformat": 4,
 "nbformat_minor": 2
}
