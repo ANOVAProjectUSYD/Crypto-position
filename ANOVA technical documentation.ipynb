{
 "cells": [
  {
   "cell_type": "markdown",
   "metadata": {},
   "source": [
    "Bollinger bands:\n",
    "\n",
    "Bollinger bands are simply two lines that are (usually) 2 standard deivations above and below the moving average measure. The bollinger band is a measure of volatility, so the wider the bands, the more volatile the prices are, and vice versa. In the ANOVA project code, simply toggle the standard deviation argument and window argument to adjust the dimensions of the measures.\n",
    "\n",
    "ichimoku Kinkō Hyō:\n",
    "\n",
    "ichimoku Kinkō Hyō translates literally to 'one glance equilibrium chart' and is based on the moving average. Ichimoku, as well as the moving average, are simply ways of identifying trends in prices, which we can see if we toggle the window length of the measures. Ichimoku and the simple moving average are both hampered by extrema, such as we see in bitcoin. For this reason, Ichimoku is more suited to short time periods. NOTE that the ichimoku actually contains a set of lines, however the 'peripheral' lines are omitted as Bollinger bands are far superior measures of price volatility and trend.\n",
    "\n",
    "Simple moving average:\n",
    "\n",
    "The simple moving average is computed by taking the arithmetic mean of data points between specified start and end dates, however, these dates can be moved, which changes the sum on the numerator and 'N' in the denominator. Simple moving averages can act as the 'support' for prices, whereby the prices tend to stay above the SMA, or as the 'resistance', where the SMA is the upper limit for the prices. In both cases, the SMA is a way for a trader to know when to sell, by spotting subtleties about the SMA curvature.\n",
    "\n",
    "\n",
    "General disclaimer:\n",
    "\n",
    "All of the above measures are entirely subjective and are subject to their inputs. This can be clearly seen by calculating the SMA for different window sizes.\n"
   ]
  },
  {
   "cell_type": "code",
   "execution_count": null,
   "metadata": {
    "collapsed": true
   },
   "outputs": [],
   "source": [
    "\n"
   ]
  }
 ],
 "metadata": {
  "kernelspec": {
   "display_name": "Python 3",
   "language": "python",
   "name": "python3"
  },
  "language_info": {
   "codemirror_mode": {
    "name": "ipython",
    "version": 3
   },
   "file_extension": ".py",
   "mimetype": "text/x-python",
   "name": "python",
   "nbconvert_exporter": "python",
   "pygments_lexer": "ipython3",
   "version": "3.6.3"
  }
 },
 "nbformat": 4,
 "nbformat_minor": 2
}
