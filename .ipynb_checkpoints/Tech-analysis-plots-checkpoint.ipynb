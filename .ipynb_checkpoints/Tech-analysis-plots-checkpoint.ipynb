{
 "cells": [
  {
   "cell_type": "code",
   "execution_count": null,
   "metadata": {},
   "outputs": [],
   "source": [
    "import numpy as np\n",
    "import matplotlib.pyplot as plt\n",
    "import pandas as pd\n",
    "import seaborn as sns\n",
    "from datetime import datetime"
   ]
  },
  {
   "cell_type": "code",
   "execution_count": null,
   "metadata": {},
   "outputs": [],
   "source": [
    "def reverse_date(btc, remove_date=\"Yes\"):\n",
    "    '''Reverses the dataset so it is in chronological order. Optional to remove date column and set as index.'''\n",
    "    final_data = btc.reindex(index=btc.index[::-1])\n",
    "    if remove_date == \"Yes\":\n",
    "        # Need to reverse order of dataframe.\n",
    "        final_data = final_data.set_index(final_data['Date'])\n",
    "        del final_data['Date']\n",
    "    return final_data"
   ]
  },
  {
   "cell_type": "code",
   "execution_count": null,
   "metadata": {},
   "outputs": [],
   "source": [
    "btc = pd.read_csv('https://raw.githubusercontent.com/chrishyland/Crypto-position/master/bitcoin_final.csv')\n",
    "crix = pd.read_csv('https://raw.githubusercontent.com/chrishyland/Crypto-position/master/crix.csv')\n",
    "\n",
    "df = reverse_date(btc)\n",
    "df.head()"
   ]
  },
  {
   "cell_type": "code",
   "execution_count": null,
   "metadata": {},
   "outputs": [],
   "source": [
    "def ichimoku_plot(df):\n",
    "    '''Computes the Ichimoku Kinkō Hyō trend identification system.'''\n",
    "    # This plot has 5 components to it. \n",
    "    high_prices = df['High']\n",
    "    close_prices = df['Close']\n",
    "    low_prices = df['Low']\n",
    "    dates = df.index\n",
    "    \n",
    "    # Ichimoku (Conversion Line): (9-period high + 9-period low)/2\n",
    "    nine_period_high = df['High'].rolling(window=9, center=False).max() # Usually window is 9 days.\n",
    "    nine_period_low = df['Low'].rolling(window=9, center=False).max() \n",
    "    ichimoku = (nine_period_high + nine_period_low) /2\n",
    "    df['tenkan_sen'] = ichimoku\n",
    "    \n",
    "    # Kijun-Sen (Base line): (26-period high + 26-period low)/2)\n",
    "    period26_high = high_prices.rolling(window=26, center=False).max() # Window normally 26 days.\n",
    "    period26_low = low_prices.rolling(window=26, center=False).min()\n",
    "    df['kijun_sen'] = (period26_high + period26_low) / 2\n",
    "    \n",
    "    # Senkou Span A (Leading span A): (Base line + Conversion line) / 2\n",
    "    df['senkou_span_a'] = ((df['tenkan_sen'] + df['kijun_sen']) / 2).shift(26) \n",
    "\n",
    "    # Senkou Span B (Leading span B): (52-period high + 52-period low)/2\n",
    "    period52_high = high_prices.rolling(window=52, center=False).max()\n",
    "    period52_low = low_prices.rolling(window=52, center=False).min()\n",
    "    df['senkou_span_b'] = ((period52_high + period52_low) / 2).shift(26)\n",
    "    \n",
    "    # Chikou Span (Lagging span): Closing price of last 22 periods\n",
    "    df['chikou_span'] = close_prices.shift(-22)\n",
    "    \n",
    "    return df[df.columns[6:]]"
   ]
  },
  {
   "cell_type": "code",
   "execution_count": null,
   "metadata": {},
   "outputs": [],
   "source": [
    "def sma_plot(df, window):\n",
    "    '''Computes simple moving average.'''\n",
    "    rolling = df['Close'].rolling(window=window) # Window tells us how many days average to take.\n",
    "    return rolling.mean()"
   ]
  },
  {
   "cell_type": "code",
   "execution_count": null,
   "metadata": {},
   "outputs": [],
   "source": [
    "def bollinger_plot(df, window, num_sd):\n",
    "    '''Computes Bollinger bands depending on number of standard deviation and window.''' \n",
    "    rolling_mean = df['Close'].rolling(window).mean() # Window should be same as SMA.\n",
    "    rolling_std = df['Close'].rolling(window).std()\n",
    "    \n",
    "    bollinger = pd.DataFrame(data=None)\n",
    "    bollinger['Rolling Mean'] = rolling_mean\n",
    "    bollinger['Bollinger High'] = rolling_mean + (rolling_std * num_sd)\n",
    "    bollinger['Bollinger Low'] = rolling_mean - (rolling_std * num_sd)\n",
    "\n",
    "    return bollinger"
   ]
  },
  {
   "cell_type": "code",
   "execution_count": null,
   "metadata": {},
   "outputs": [],
   "source": []
  },
  {
   "cell_type": "code",
   "execution_count": null,
   "metadata": {},
   "outputs": [],
   "source": [
    "# TODO: Configure Bokeh to allow for toggle configuration for sliding bar. Allows us to choose the date.\n",
    "# Example: https://finance.yahoo.com/chart/AAPL#eyJpbnRlcnZhbCI6ImRheSIsInBlcmlvZGljaXR5IjoxLCJ0aW1lVW5pdCI6bnVsbCwiY2FuZGxlV2lkdGgiOjgsInZvbHVtZVVuZGVybGF5Ijp0cnVlLCJhZGoiOnRydWUsImNyb3NzaGFpciI6dHJ1ZSwiY2hhcnRUeXBlIjoibGluZSIsImV4dGVuZGVkIjpmYWxzZSwibWFya2V0U2Vzc2lvbnMiOnt9LCJhZ2dyZWdhdGlvblR5cGUiOiJvaGxjIiwiY2hhcnRTY2FsZSI6ImxpbmVhciIsInBhbmVscyI6eyJjaGFydCI6eyJwZXJjZW50IjoxLCJkaXNwbGF5IjoiQUFQTCIsImNoYXJ0TmFtZSI6ImNoYXJ0IiwidG9wIjowfX0sInNldFNwYW4iOnt9LCJsaW5lV2lkdGgiOjIsInN0cmlwZWRCYWNrZ3JvdWQiOnRydWUsImV2ZW50cyI6dHJ1ZSwiY29sb3IiOiIjMDA4MWYyIiwic3ltYm9scyI6W3sic3ltYm9sIjoiQUFQTCIsInN5bWJvbE9iamVjdCI6eyJzeW1ib2wiOiJBQVBMIn0sInBlcmlvZGljaXR5IjoxLCJpbnRlcnZhbCI6ImRheSIsInRpbWVVbml0IjpudWxsLCJzZXRTcGFuIjp7fX1dLCJzdHVkaWVzIjp7InZvbCB1bmRyIjp7InR5cGUiOiJ2b2wgdW5kciIsImlucHV0cyI6eyJpZCI6InZvbCB1bmRyIiwiZGlzcGxheSI6InZvbCB1bmRyIn0sIm91dHB1dHMiOnsiVXAgVm9sdW1lIjoiIzAwYjA2MSIsIkRvd24gVm9sdW1lIjoiI0ZGMzMzQSJ9LCJwYW5lbCI6ImNoYXJ0IiwicGFyYW1ldGVycyI6eyJoZWlnaHRQZXJjZW50YWdlIjowLjI1LCJ3aWR0aEZhY3RvciI6MC40NSwiY2hhcnROYW1lIjoiY2hhcnQifX0sIuKAjEJvbGxpbmdlciBCYW5kc%2BKAjCAoQywxMCwyLG1hLHkpIjp7InR5cGUiOiJCb2xsaW5nZXIgQmFuZHMiLCJpbnB1dHMiOnsiRmllbGQiOiJDbG9zZSIsIlBlcmlvZCI6IjEwIiwiU3RhbmRhcmQgRGV2aWF0aW9ucyI6MiwiTW92aW5nIEF2ZXJhZ2UgVHlwZSI6InNpbXBsZSIsIkNoYW5uZWwgRmlsbCI6dHJ1ZSwiaWQiOiLigIxCb2xsaW5nZXIgQmFuZHPigIwgKEMsMTAsMixtYSx5KSIsImRpc3BsYXkiOiLigIxCb2xsaW5nZXIgQmFuZHPigIwgKEMsMTAsMixtYSx5KSJ9LCJvdXRwdXRzIjp7IkJvbGxpbmdlciBCYW5kcyBUb3AiOiIjZmZkYjQ4IiwiQm9sbGluZ2VyIEJhbmRzIE1lZGlhbiI6IiNmZmEzM2YiLCJCb2xsaW5nZXIgQmFuZHMgQm90dG9tIjoiI2ZmYmQ3NCJ9LCJwYW5lbCI6ImNoYXJ0IiwicGFyYW1ldGVycyI6eyJjaGFydE5hbWUiOiJjaGFydCJ9fX19"
   ]
  },
  {
   "cell_type": "code",
   "execution_count": null,
   "metadata": {},
   "outputs": [],
   "source": [
    "from bokeh.plotting import figure, output_file, show\n"
   ]
  },
  {
   "cell_type": "code",
   "execution_count": null,
   "metadata": {},
   "outputs": [],
   "source": [
    "# output to static HTML file\n",
    "output_file(\"lines.html\")\n",
    "\n",
    "# create a new plot with a title and axis labels\n",
    "p = figure(title=\"SMA of bitcoin\", x_axis_label='Date', y_axis_label='Price')\n",
    "\n",
    "# add a line renderer with legend and line thickness\n",
    "p.line(df.index, df.High, legend=\"Temp.\", line_width=2)\n",
    "\n",
    "# show the results\n",
    "show(p)"
   ]
  },
  {
   "cell_type": "code",
   "execution_count": null,
   "metadata": {},
   "outputs": [],
   "source": []
  },
  {
   "cell_type": "code",
   "execution_count": null,
   "metadata": {},
   "outputs": [],
   "source": []
  },
  {
   "cell_type": "code",
   "execution_count": null,
   "metadata": {},
   "outputs": [],
   "source": []
  },
  {
   "cell_type": "code",
   "execution_count": null,
   "metadata": {},
   "outputs": [],
   "source": []
  },
  {
   "cell_type": "code",
   "execution_count": null,
   "metadata": {},
   "outputs": [],
   "source": []
  },
  {
   "cell_type": "code",
   "execution_count": null,
   "metadata": {},
   "outputs": [],
   "source": [
    "import plotly\n",
    "plotly.tools.set_credentials_file(username='chrishigh95', api_key='Mg0N9OIjeBB64gnsBP1Y')\n",
    "import plotly.plotly as py\n",
    "from plotly.graph_objs import *"
   ]
  },
  {
   "cell_type": "code",
   "execution_count": null,
   "metadata": {},
   "outputs": [],
   "source": [
    "data = [Bar(x=df.index,\n",
    "            y=sma_plot(df, 9))]\n",
    "\n",
    "py.iplot(data)"
   ]
  },
  {
   "cell_type": "code",
   "execution_count": null,
   "metadata": {},
   "outputs": [],
   "source": [
    "import numpy as np\n",
    "\n",
    "import plotly.plotly as py\n",
    "\n",
    "# Create a trace\n",
    "trace = go.Ohlc(\n",
    "    open = dt['Open'],\n",
    "    high = dt['High'],\n",
    "    low = dt['Low'],\n",
    "    close = dt['Close']\n",
    ")\n",
    "data = [trace]\n",
    "\n",
    "layout = dict(\n",
    "    title = \"BTC USD Cross\"\n",
    ")\n",
    "fig = dict(data=data, layout=layout)\n",
    "\n",
    "py.iplot(fig, filename='basic-line')"
   ]
  },
  {
   "cell_type": "code",
   "execution_count": null,
   "metadata": {},
   "outputs": [],
   "source": [
    "boll_low = go.Scatter(\n",
    "    x=dt.index,\n",
    "    y=dt['Bollinger High'],\n",
    "    name = \"Bollinger High\",\n",
    "    line = dict(color = '#66c2ff'),\n",
    "    opacity = 0.8)\n",
    "\n",
    "boll_high = go.Scatter(\n",
    "    x=dt.index,\n",
    "    y=dt['Bollinger Low'],\n",
    "    name = \"Bollinger Low\",\n",
    "    line = dict(color = '#99d6ff'),\n",
    "    opacity = 0.8)\n",
    "close = go.Scatter(\n",
    "    x=dt.index,\n",
    "    y=dt['Close'],\n",
    "    name = \"Close\",\n",
    "    line = dict(color = '#006bb3')\n",
    "\n",
    ")\n",
    "\n",
    "data1 = [boll_low, boll_high, close]\n",
    "layout1 = dict(\n",
    "    title='Bollinger bands',\n",
    "    xaxis=dict(\n",
    "        rangeselector=dict(\n",
    "            buttons=list([\n",
    "                dict(count=1,\n",
    "                     label='1m',\n",
    "                     step='month',\n",
    "                     stepmode='backward'),\n",
    "                dict(count=6,\n",
    "                     label='6m',\n",
    "                     step='month',\n",
    "                     stepmode='backward'),\n",
    "                dict(step='all')\n",
    "            ])\n",
    "        ),\n",
    "        rangeslider=dict(range=\"28/4/2013 - 22/11/2017\"),\n",
    "        type='date'\n",
    "    )\n",
    ")\n",
    "\n",
    "fig = dict(data=data1, layout=layout1)\n",
    "\n",
    "py.iplot(fig, filename='basic-line2')"
   ]
  },
  {
   "cell_type": "code",
   "execution_count": null,
   "metadata": {},
   "outputs": [],
   "source": []
  }
 ],
 "metadata": {
  "kernelspec": {
   "display_name": "Python 3",
   "language": "python",
   "name": "python3"
  },
  "language_info": {
   "codemirror_mode": {
    "name": "ipython",
    "version": 3
   },
   "file_extension": ".py",
   "mimetype": "text/x-python",
   "name": "python",
   "nbconvert_exporter": "python",
   "pygments_lexer": "ipython3",
   "version": "3.6.4"
  }
 },
 "nbformat": 4,
 "nbformat_minor": 2
}
