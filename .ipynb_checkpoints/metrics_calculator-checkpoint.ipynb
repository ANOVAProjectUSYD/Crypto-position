{
 "cells": [
  {
   "cell_type": "code",
   "execution_count": 1,
   "metadata": {},
   "outputs": [],
   "source": [
    "import numpy as np\n",
    "import pandas as pd "
   ]
  },
  {
   "cell_type": "code",
   "execution_count": 2,
   "metadata": {},
   "outputs": [],
   "source": [
    "def calc_returns(filePath): \n",
    "    \n",
    "    df = pd.read_csv(filePath)\n",
    "    returns = []\n",
    "    for i in range(0, len(df)-1): \n",
    "        #compute daily returns \n",
    "        rp = (df.ix[i,'Close'] - df.ix[i+1,'Close'])/(df.ix[i+1,'Close'])\n",
    "        returns = np.append(returns, rp)\n",
    "    return returns "
   ]
  },
  {
   "cell_type": "code",
   "execution_count": 3,
   "metadata": {},
   "outputs": [],
   "source": [
    "def calc_sharpe(filePath, rf=0):\n",
    "    \n",
    "    returns = calc_returns(filePath)\n",
    "    rp_mean = np.mean(returns)\n",
    "    rp_sd = np.std(returns)\n",
    "    \n",
    "    return ((rp_mean-rf)/rp_sd) * (365/np.sqrt(365))"
   ]
  },
  {
   "cell_type": "code",
   "execution_count": 4,
   "metadata": {
    "collapsed": true
   },
   "outputs": [],
   "source": [
    "def calc_sortino(filePath, rf=0, mar=0): \n",
    "    \n",
    "    rp = calc_returns(filePath)\n",
    "    neg_rp = [x for x in rp if x < mar]\n",
    "    \n",
    "    return ((np.mean(rp)) - rf)/np.std(neg_rp) * (365/np.sqrt(365))"
   ]
  },
  {
   "cell_type": "code",
   "execution_count": 5,
   "metadata": {
    "collapsed": true
   },
   "outputs": [],
   "source": [
    "def calc_treynor(currency_filePath, market_filePath, rf=0):\n",
    "    \n",
    "    rp = calc_returns(currency_filePath)\n",
    "    rb = calc_returns(market_filePath)\n",
    "    beta = np.cov(rp, rb)[0][1]/np.var(rb)\n",
    "   \n",
    "    return ((np.mean(rp) - rf)/beta) * (365/np.sqrt(365))\n",
    "    "
   ]
  },
  {
   "cell_type": "code",
   "execution_count": 6,
   "metadata": {
    "collapsed": true
   },
   "outputs": [],
   "source": [
    "def calc_infoRatio(currency_filePath, market_filePath): \n",
    "    \n",
    "    x = calc_returns(market_filePath)\n",
    "    y = calc_returns(currency_filePath)\n",
    "    \n",
    "    coef = np.polyfit(x, y, 1)\n",
    "    beta = coef[0]\n",
    "    alpha = coef[1]\n",
    "    residuals = []\n",
    "    \n",
    "    for i in range(0, len(x)):\n",
    "        predicted = alpha + beta*x[i]\n",
    "        residuals = np.append(residuals, y[i] - predicted)\n",
    "    \n",
    "    residual_sd = np.std(residuals) \n",
    "    \n",
    "    return (alpha/residual_sd) * (365/np.sqrt(365))"
   ]
  },
  {
   "cell_type": "code",
   "execution_count": null,
   "metadata": {
    "collapsed": true
   },
   "outputs": [],
   "source": []
  }
 ],
 "metadata": {
  "celltoolbar": "Raw Cell Format",
  "kernelspec": {
   "display_name": "Python 3",
   "language": "python",
   "name": "python3"
  },
  "language_info": {
   "codemirror_mode": {
    "name": "ipython",
    "version": 3
   },
   "file_extension": ".py",
   "mimetype": "text/x-python",
   "name": "python",
   "nbconvert_exporter": "python",
   "pygments_lexer": "ipython3",
   "version": "3.6.4"
  }
 },
 "nbformat": 4,
 "nbformat_minor": 2
}
